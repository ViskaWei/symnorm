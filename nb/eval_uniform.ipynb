{
 "cells": [
  {
   "cell_type": "code",
<<<<<<< HEAD
   "execution_count": 2,
=======
   "execution_count": 1,
>>>>>>> 8e8331afff0bb423cea2906d4cfec613c93a0fb3
   "metadata": {},
   "outputs": [],
   "source": [
    "import os\n",
    "import sys\n",
    "import numpy as np\n",
    "import copy\n",
    "from collections import Counter\n",
    "import pandas as pd\n",
    "import matplotlib.pyplot as plt"
   ]
  },
  {
   "cell_type": "code",
<<<<<<< HEAD
   "execution_count": 3,
   "metadata": {},
   "outputs": [],
=======
   "execution_count": 167,
   "metadata": {},
   "outputs": [
    {
     "name": "stdout",
     "output_type": "stream",
     "text": [
      "The autoreload extension is already loaded. To reload it, use:\n",
      "  %reload_ext autoreload\n"
     ]
    }
   ],
>>>>>>> 8e8331afff0bb423cea2906d4cfec613c93a0fb3
   "source": [
    "sys.path.insert(0, '..')\n",
    "%load_ext autoreload\n",
    "%autoreload 2"
   ]
  },
  {
   "cell_type": "code",
<<<<<<< HEAD
   "execution_count": 4,
=======
   "execution_count": 3,
>>>>>>> 8e8331afff0bb423cea2906d4cfec613c93a0fb3
   "metadata": {},
   "outputs": [],
   "source": [
    "from symnorm.dataset.stream import Stream\n",
<<<<<<< HEAD
    "from symnorm.eval.uniform import Uniform, UniformTrace\n",
    "from symnorm.util.norm import norm_function"
=======
    "from symnorm.eval.uniform import Uniform, UniformTrace"
>>>>>>> 8e8331afff0bb423cea2906d4cfec613c93a0fb3
   ]
  },
  {
   "cell_type": "code",
<<<<<<< HEAD
   "execution_count": 8,
   "metadata": {},
   "outputs": [],
   "source": [
    "mMax, n, ftr = 1e3, 1e4, 'rd' \n",
=======
   "execution_count": 65,
   "metadata": {},
   "outputs": [],
   "source": [
    "mMax, n, ftr = 0.5e3, 1e7, 'rd' \n",
>>>>>>> 8e8331afff0bb423cea2906d4cfec613c93a0fb3
    "strm = Stream(mMax, n, ftr)\n",
    "strm.run()"
   ]
  },
  {
   "cell_type": "code",
<<<<<<< HEAD
   "execution_count": 9,
=======
   "execution_count": 66,
>>>>>>> 8e8331afff0bb423cea2906d4cfec613c93a0fb3
   "metadata": {},
   "outputs": [
    {
     "data": {
<<<<<<< HEAD
      "image/png": "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\n",
=======
      "image/png": "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\n",
>>>>>>> 8e8331afff0bb423cea2906d4cfec613c93a0fb3
      "text/plain": [
       "<Figure size 864x144 with 1 Axes>"
      ]
     },
     "metadata": {
      "needs_background": "light"
     },
     "output_type": "display_data"
    }
   ],
   "source": [
    "f, ax = plt.subplots(1, figsize=(12,2))\n",
    "_ = ax.hist(strm.coord, bins=50, color='r')\n",
    "_ = f.suptitle(f'FreqList for mMax = {strm.mMax} | n = {strm.n} | ftr = {strm.ftr}')"
   ]
  },
  {
   "cell_type": "code",
   "execution_count": 199,
   "metadata": {},
   "outputs": [],
   "source": [
    "p = 2\n",
    "norm_fns = lambda x: np.power(sum([np.power(abs(i), p) for i in x]), (1.0/p))"
   ]
  },
  {
   "cell_type": "code",
<<<<<<< HEAD
   "execution_count": 5,
   "metadata": {},
   "outputs": [],
   "source": [
    "norm_fns = [norm_function(normType) for normType in ['L1', 'L2', 'T8', 'T16']] "
   ]
  },
  {
   "cell_type": "code",
   "execution_count": 7,
   "metadata": {},
   "outputs": [],
   "source": [
    "trace = UniformTrace()\n",
    "uni = Uniform(norm_fns, trace=trace)"
   ]
  },
  {
   "cell_type": "code",
   "execution_count": 10,
   "metadata": {},
   "outputs": [],
   "source": [
    "norms, c = uni.get_norms_from_coord(strm.coord)"
=======
   "execution_count": 35,
   "metadata": {},
   "outputs": [],
   "source": [
    "sRate = 0.1\n",
    "trace = UniformTrace()\n",
    "uni = Uniform(norm_fns, sRate, trace=trace)"
>>>>>>> 8e8331afff0bb423cea2906d4cfec613c93a0fb3
   ]
  },
  {
   "cell_type": "code",
<<<<<<< HEAD
   "execution_count": 11,
=======
   "execution_count": 37,
>>>>>>> 8e8331afff0bb423cea2906d4cfec613c93a0fb3
   "metadata": {},
   "outputs": [
    {
     "data": {
      "text/plain": [
<<<<<<< HEAD
       "array([1000.        ,   49.55804677,   45.        ,   61.        ])"
      ]
     },
     "execution_count": 11,
=======
       "100000.0"
      ]
     },
     "execution_count": 37,
>>>>>>> 8e8331afff0bb423cea2906d4cfec613c93a0fb3
     "metadata": {},
     "output_type": "execute_result"
    }
   ],
   "source": [
<<<<<<< HEAD
    "norms"
=======
    "strm.n"
>>>>>>> 8e8331afff0bb423cea2906d4cfec613c93a0fb3
   ]
  },
  {
   "cell_type": "code",
   "execution_count": 36,
   "metadata": {},
   "outputs": [
    {
     "data": {
      "text/plain": [
       "array([1000., 1000.,    0.,    0., 1220.,    0.,    0.])"
      ]
     },
     "execution_count": 36,
     "metadata": {},
     "output_type": "execute_result"
    }
   ],
   "source": [
    "out = uni.run_MLoop(strm.coord, [strm.mMax], strm.n)\n",
    "np.around(out)"
   ]
  },
  {
   "cell_type": "code",
   "execution_count": 262,
   "metadata": {},
   "outputs": [],
   "source": [
    "def test_n(m, n, sRate=0.1): \n",
    "    strm = Stream(m, n, 'rd')\n",
    "    strm.run()\n",
    "    trace = UniformTrace()\n",
    "    uni = Uniform(norm_fns, sRate, trace=trace)\n",
    "    out = uni.run_MLoop(strm.coord, [strm.mMax //10, strm.mMax], n)\n",
    "    print(strm.mMax, strm.n, sRate, np.around(out))\n",
    "    return uni\n",
    "    "
   ]
  },
  {
   "cell_type": "code",
   "execution_count": 263,
   "metadata": {},
   "outputs": [
    {
     "name": "stdout",
     "output_type": "stream",
     "text": [
      "100 100000.0 0.1 [[ 3. 10.  2.  0. 10.  2.  0.]\n",
      " [13. 32.  1.  0. 37.  2.  0.]]\n"
     ]
    }
   ],
   "source": [
    "m, n = 1e2, 1e5\n",
    "t1 = test_n(m, n, sRate = 0.1)"
   ]
  },
  {
   "cell_type": "code",
   "execution_count": 259,
   "metadata": {},
   "outputs": [
    {
     "name": "stdout",
     "output_type": "stream",
     "text": [
      "100 100000.0 0.05 [[13. 45.  2.  0. 45.  2.  0.]]\n"
     ]
    }
   ],
   "source": [
    "m, n = 1e2, 1e5\n",
    "t2 = test_n(m, n, sRate = 0.05)"
   ]
  },
  {
   "cell_type": "code",
   "execution_count": 203,
   "metadata": {},
   "outputs": [],
   "source": [
    "c = self.trace.cUU"
   ]
  },
  {
   "cell_type": "code",
   "execution_count": 205,
   "metadata": {},
   "outputs": [],
   "source": [
    "e = np.array(self.trace.freqVecUU)"
   ]
  },
  {
   "cell_type": "code",
   "execution_count": 234,
   "metadata": {},
   "outputs": [
    {
     "name": "stdout",
     "output_type": "stream",
     "text": [
      "333 10000\n",
      "333 1000000\n"
     ]
    }
   ],
   "source": [
    "print(np.sum(t1.trace.freqVecUU), len(t1.trace.freqVecUU))\n",
    "print(np.sum(t2.trace.freqVecUU), len(t2.trace.freqVecUU))"
   ]
  },
  {
   "cell_type": "code",
   "execution_count": 239,
   "metadata": {},
   "outputs": [
    {
     "data": {
      "text/plain": [
       "0"
      ]
     },
     "execution_count": 239,
     "metadata": {},
     "output_type": "execute_result"
    }
   ],
   "source": [
    "counter[30401]"
   ]
  },
  {
   "cell_type": "code",
   "execution_count": 253,
   "metadata": {},
   "outputs": [
    {
     "data": {
      "text/plain": [
       "array([  18.,   19.,   31.,   41.,   44.,   46.,   47.,   63.,   68.,\n",
       "         70.,   89.,  115.,  124.,  127.,  159.,  164.,  171.,  174.,\n",
       "        181.,  189.,  200.,  207.,  219.,  228.,  234.,  252.,  257.,\n",
       "        287.,  290.,  300.,  303.,  315.,  324.,  326.,  331.,  336.,\n",
       "        341.,  361.,  366.,  368.,  370.,  382.,  386.,  391.,  398.,\n",
       "        400.,  401.,  403.,  404.,  406.,  429.,  445.,  466.,  478.,\n",
       "        490.,  495.,  503.,  507.,  510.,  513.,  514.,  515.,  521.,\n",
       "        522.,  528.,  545.,  553.,  561.,  564.,  576.,  585.,  590.,\n",
       "        598.,  624.,  640.,  647.,  657.,  669.,  675.,  698.,  710.,\n",
       "        717.,  726.,  753.,  758.,  764.,  766.,  772.,  773.,  797.,\n",
       "        801.,  804.,  814.,  816.,  821.,  827.,  832.,  836.,  837.,\n",
       "        840.,  841.,  849.,  852.,  853.,  888.,  893.,  909.,  928.,\n",
       "        951.,  953.,  977.,  983., 1018., 1022., 1023., 1026., 1032.,\n",
       "       1033., 1041., 1046., 1059., 1096., 1130., 1137., 1144., 1146.,\n",
       "       1147., 1148., 1160., 1161., 1168., 1169., 1183., 1189., 1211.,\n",
       "       1228., 1236., 1253., 1258., 1267., 1269., 1293., 1298., 1308.,\n",
       "       1317., 1331., 1334., 1342., 1343., 1350., 1370., 1408., 1410.,\n",
       "       1431., 1442., 1448., 1453., 1462., 1464., 1476., 1483., 1484.,\n",
       "       1509., 1512., 1556., 1598., 1605., 1612., 1621., 1647., 1655.,\n",
       "       1661., 1663., 1676., 1698., 1710., 1712., 1723., 1738., 1743.,\n",
       "       1767., 1790., 1794., 1800., 1804., 1807., 1813., 1814., 1817.,\n",
       "       1837., 1839., 1849., 1860., 1887., 1929., 1942., 1946., 1963.,\n",
       "       1997., 1998., 2000., 2005., 2006., 2018., 2019., 2036., 2038.,\n",
       "       2046., 2053., 2056., 2059., 2067., 2072., 2081., 2102., 2114.,\n",
       "       2116., 2117., 2126., 2137., 2143., 2145., 2146., 2147., 2171.,\n",
       "       2176., 2178., 2196., 2199., 2210., 2219., 2222., 2223., 2235.,\n",
       "       2246., 2253., 2262., 2275., 2295., 2298., 2330., 2346., 2356.,\n",
       "       2367., 2381., 2411., 2412., 2419., 2424., 2426., 2430., 2432.,\n",
       "       2436., 2438., 2443., 2459., 2464., 2468., 2490., 2491., 2534.,\n",
       "       2543., 2554., 2593., 2599., 2615., 2621., 2640., 2645., 2651.,\n",
       "       2686., 2691., 2710., 2718., 2732., 2735., 2760., 2767., 2774.,\n",
       "       2776., 2789., 2807., 2809., 2811., 2817., 2819., 2821., 2849.,\n",
       "       2851., 2862., 2865., 2869., 2870., 2883., 2884., 2886., 2889.,\n",
       "       2894., 2898., 2920., 2922., 2924., 2944., 2975., 2979., 3000.,\n",
       "       3008., 3013., 3024., 3028., 3034., 3036., 3037., 3050., 3056.,\n",
       "       3058., 3064., 3084., 3099., 3100., 3103., 3113., 3136., 3143.,\n",
       "       3146., 3156., 3160., 3175., 3178., 3185., 3189., 3195., 3196.])"
      ]
     },
     "execution_count": 253,
     "metadata": {},
     "output_type": "execute_result"
    }
   ],
   "source": [
    "t1F = np.array(t1.trace.freqVecUU )\n",
    "idx1 = np.where(t1F != 0)[0]\n",
    "np.array(sorted(t1.trace.sDict[idx1]))"
   ]
  },
  {
   "cell_type": "code",
   "execution_count": 252,
   "metadata": {},
   "outputs": [
    {
     "data": {
      "text/plain": [
       "array([  17.,   20.,   23.,   25.,   31.,   57.,   66.,   75.,   77.,\n",
       "         79.,   85.,   92.,   93.,  101.,  105.,  133.,  135.,  139.,\n",
       "        149.,  163.,  174.,  176.,  178.,  186.,  210.,  224.,  226.,\n",
       "        234.,  237.,  259.,  260.,  263.,  271.,  277.,  280.,  291.,\n",
       "        294.,  299.,  306.,  307.,  310.,  314.,  333.,  352.,  362.,\n",
       "        363.,  369.,  374.,  378.,  383.,  393.,  394.,  395.,  397.,\n",
       "        409.,  411.,  413.,  416.,  423.,  425.,  460.,  484.,  486.,\n",
       "        497.,  500.,  514.,  520.,  523.,  530.,  550.,  556.,  557.,\n",
       "        558.,  561.,  563.,  570.,  572.,  574.,  575.,  590.,  606.,\n",
       "        610.,  615.,  616.,  647.,  652.,  673.,  679.,  692.,  710.,\n",
       "        721.,  733.,  742.,  745.,  764.,  778.,  781.,  789.,  794.,\n",
       "        803.,  816.,  822.,  837.,  843.,  849.,  851.,  854.,  862.,\n",
       "        863.,  866.,  868.,  877.,  899.,  924.,  925.,  937.,  944.,\n",
       "        949.,  958.,  959.,  965.,  977.,  984.,  985.,  994., 1003.,\n",
       "       1024., 1032., 1038., 1050., 1075., 1080., 1085., 1097., 1107.,\n",
       "       1112., 1123., 1134., 1137., 1146., 1152., 1170., 1177., 1194.,\n",
       "       1196., 1230., 1234., 1270., 1288., 1290., 1292., 1308., 1310.,\n",
       "       1321., 1322., 1339., 1342., 1346., 1368., 1371., 1386., 1436.,\n",
       "       1437., 1448., 1468., 1483., 1523., 1540., 1543., 1548., 1566.,\n",
       "       1567., 1586., 1612., 1635., 1639., 1642., 1645., 1654., 1665.,\n",
       "       1680., 1687., 1719., 1731., 1735., 1736., 1777., 1789., 1795.,\n",
       "       1799., 1830., 1831., 1838., 1857., 1860., 1872., 1876., 1891.,\n",
       "       1900., 1911., 1920., 1921., 1948., 1950., 1972., 1982., 1984.,\n",
       "       2012., 2026., 2038., 2039., 2051., 2058., 2060., 2068., 2076.,\n",
       "       2078., 2081., 2091., 2093., 2135., 2144., 2168., 2171., 2178.,\n",
       "       2183., 2195., 2201., 2206., 2232., 2250., 2253., 2261., 2272.,\n",
       "       2274., 2286., 2299., 2309., 2314., 2324., 2326., 2342., 2360.,\n",
       "       2382., 2386., 2390., 2405., 2407., 2413., 2423., 2437., 2447.,\n",
       "       2451., 2457., 2471., 2494., 2497., 2500., 2513., 2534., 2554.,\n",
       "       2556., 2564., 2578., 2580., 2607., 2618., 2629., 2630., 2639.,\n",
       "       2646., 2649., 2672., 2678., 2680., 2689., 2693., 2698., 2704.,\n",
       "       2709., 2720., 2728., 2750., 2751., 2774., 2780., 2784., 2791.,\n",
       "       2817., 2829., 2832., 2836., 2864., 2881., 2885., 2894., 2905.,\n",
       "       2906., 2908., 2916., 2917., 2939., 2942., 2953., 2976., 2981.,\n",
       "       2984., 2990., 2996., 2997., 3017., 3029., 3045., 3046., 3050.,\n",
       "       3052., 3057., 3061., 3063., 3083., 3088., 3095., 3107., 3111.,\n",
       "       3113., 3115., 3120., 3149., 3152., 3158., 3169., 3181., 3194.])"
      ]
     },
     "execution_count": 252,
     "metadata": {},
     "output_type": "execute_result"
    }
   ],
   "source": [
    "t2F = np.array(t2.trace.freqVecUU )\n",
    "idx2 = np.where(t2F != 0)[0]\n",
    "np.array(sorted(t2.trace.sDict[idx2]))"
   ]
<<<<<<< HEAD
=======
  },
  {
   "cell_type": "code",
   "execution_count": 255,
   "metadata": {},
   "outputs": [
    {
     "data": {
      "text/plain": [
       "(333,)"
      ]
     },
     "execution_count": 255,
     "metadata": {},
     "output_type": "execute_result"
    }
   ],
   "source": [
    "t2.trace.sDict[idx2].shape"
   ]
  },
  {
   "cell_type": "code",
   "execution_count": 240,
   "metadata": {},
   "outputs": [
    {
     "data": {
      "text/plain": [
       "(array([0]),)"
      ]
     },
     "execution_count": 240,
     "metadata": {},
     "output_type": "execute_result"
    }
   ],
   "source": [
    "np.where(t1.trace.freqVecUU !=0)"
   ]
  },
  {
   "cell_type": "code",
   "execution_count": 237,
   "metadata": {},
   "outputs": [
    {
     "data": {
      "text/plain": [
       "array([30401., 47903., 15140., ..., 13066., 98380., 12852.])"
      ]
     },
     "execution_count": 237,
     "metadata": {},
     "output_type": "execute_result"
    }
   ],
   "source": [
    "np.wh"
   ]
  },
  {
   "cell_type": "code",
   "execution_count": 236,
   "metadata": {},
   "outputs": [
    {
     "data": {
      "text/plain": [
       "array([ 344977., 5781051., 1120861., ..., 1457806., 8705972.,  269636.])"
      ]
     },
     "execution_count": 236,
     "metadata": {},
     "output_type": "execute_result"
    }
   ],
   "source": [
    "t2.trace.sDict"
   ]
  },
  {
   "cell_type": "code",
   "execution_count": 226,
   "metadata": {},
   "outputs": [
    {
     "name": "stdout",
     "output_type": "stream",
     "text": [
      "[1, 1, 1, 1, 1, 1, 1, 1, 1, 1, 1, 1, 1, 1, 1, 1, 1, 1, 1, 1, 1, 1, 1, 1, 1, 1, 1, 1, 1, 1, 1, 1, 1, 1, 1, 1, 1, 1, 1, 1, 1, 1, 1, 1, 1, 1, 1, 1, 6, 1, 1, 1, 1, 1, 1, 1, 1, 1, 1, 1, 1, 1, 1, 1, 1, 1, 1, 1, 1, 1, 1, 1, 1, 1, 1, 1, 1, 1, 1, 1, 1, 1, 1, 1, 1, 1, 1, 1, 1, 1, 1, 1, 1, 1, 1, 1, 1, 1, 1, 1, 1, 1, 1, 1, 1, 1, 1, 1, 1, 1, 1, 1, 1, 1, 1, 1, 1, 1, 1, 1, 1, 1, 1, 1, 1, 1, 1, 1, 1, 1, 1, 1, 1, 1, 1, 1, 1, 1, 1, 1, 1, 1, 1, 1, 1, 1, 1, 1, 1, 1, 1, 1, 1, 1, 1, 1, 1, 1, 1, 1, 1, 1, 1, 1, 1, 1, 1, 1, 1, 1, 1, 1, 1, 1, 1, 1, 1, 1, 1, 1, 1, 1, 1, 1, 1, 1, 1, 1, 1, 1, 1, 1, 1, 1, 1, 1, 1, 1, 1, 1, 1, 1, 1, 1, 1, 1, 1, 1, 1, 1, 1, 1, 1, 1, 1, 1, 1, 1, 1, 1, 1, 1, 1, 1, 1, 1, 1, 1, 1, 1, 1, 1, 1, 1, 1, 1, 1, 1, 1, 1, 1, 1, 1, 1, 1, 1, 1, 1, 1, 1, 1, 1, 1, 1, 1, 1, 1, 1, 1, 1, 1, 1, 1, 1, 1, 1, 1, 1, 1, 1, 1, 1, 1, 1, 1, 1, 1, 1, 1, 1, 1, 1, 1, 1, 1, 1, 1, 1, 1, 1, 1, 1, 1, 1, 1, 1, 1, 1, 1, 1, 1, 1, 1, 1, 1, 1, 1, 1, 1, 1, 1, 1, 1, 1, 1, 1, 1, 1, 1, 1, 1, 1]\n"
     ]
    }
   ],
   "source": [
    "print(t1.trace.freqVecUS)"
   ]
  },
  {
   "cell_type": "code",
   "execution_count": 210,
   "metadata": {},
   "outputs": [],
   "source": [
    "strm = Stream(m, n, 'tst')\n",
    "strm.run()\n",
    "coord=strm.coord"
   ]
  },
  {
   "cell_type": "code",
   "execution_count": 211,
   "metadata": {},
   "outputs": [
    {
     "data": {
      "text/plain": [
       "array([1.000e+00, 2.000e+00, 3.000e+00, ..., 3.201e+03, 3.201e+03,\n",
       "       3.201e+03])"
      ]
     },
     "execution_count": 211,
     "metadata": {},
     "output_type": "execute_result"
    }
   ],
   "source": [
    "coord"
   ]
  },
  {
   "cell_type": "code",
   "execution_count": 212,
   "metadata": {},
   "outputs": [],
   "source": [
    "counter = Counter(coord)\n",
    "freqVec = np.array(counter.values())"
   ]
  },
  {
   "cell_type": "code",
   "execution_count": 213,
   "metadata": {},
   "outputs": [
    {
     "data": {
      "text/plain": [
       "array(dict_values([1, 1, 1, 1, 1, 1, 1, 1, 1, 1, 1, 1, 1, 1, 1, 1, 1, 1, 1, 1, 1, 1, 1, 1, 1, 1, 1, 1, 1, 1, 1, 1, 1, 1, 1, 1, 1, 1, 1, 1, 1, 1, 1, 1, 1, 1, 1, 1, 1, 1, 1, 1, 1, 1, 1, 1, 1, 1, 1, 1, 1, 1, 1, 1, 1, 1, 1, 1, 1, 1, 1, 1, 1, 1, 1, 1, 1, 1, 1, 1, 1, 1, 1, 1, 1, 1, 1, 1, 1, 1, 1, 1, 1, 1, 1, 1, 1, 1, 1, 1, 1, 1, 1, 1, 1, 1, 1, 1, 1, 1, 1, 1, 1, 1, 1, 1, 1, 1, 1, 1, 1, 1, 1, 1, 1, 1, 1, 1, 1, 1, 1, 1, 1, 1, 1, 1, 1, 1, 1, 1, 1, 1, 1, 1, 1, 1, 1, 1, 1, 1, 1, 1, 1, 1, 1, 1, 1, 1, 1, 1, 1, 1, 1, 1, 1, 1, 1, 1, 1, 1, 1, 1, 1, 1, 1, 1, 1, 1, 1, 1, 1, 1, 1, 1, 1, 1, 1, 1, 1, 1, 1, 1, 1, 1, 1, 1, 1, 1, 1, 1, 1, 1, 1, 1, 1, 1, 1, 1, 1, 1, 1, 1, 1, 1, 1, 1, 1, 1, 1, 1, 1, 1, 1, 1, 1, 1, 1, 1, 1, 1, 1, 1, 1, 1, 1, 1, 1, 1, 1, 1, 1, 1, 1, 1, 1, 1, 1, 1, 1, 1, 1, 1, 1, 1, 1, 1, 1, 1, 1, 1, 1, 1, 1, 1, 1, 1, 1, 1, 1, 1, 1, 1, 1, 1, 1, 1, 1, 1, 1, 1, 1, 1, 1, 1, 1, 1, 1, 1, 1, 1, 1, 1, 1, 1, 1, 1, 1, 1, 1, 1, 1, 1, 1, 1, 1, 1, 1, 1, 1, 1, 1, 1, 1, 1, 1, 1, 1, 1, 1, 1, 1, 1, 1, 1, 1, 1, 1, 1, 1, 1, 1, 1, 1, 1, 1, 1, 1, 1, 1, 1, 1, 1, 1, 1, 1, 1, 1, 1, 1, 1, 1, 1, 1, 1, 1, 1, 1, 1, 1, 1, 1, 1, 1, 1, 1, 1, 1, 1, 1, 1, 1, 1, 1, 1, 1, 1, 1, 1, 1, 1, 1, 1, 1, 1, 1, 1, 1, 1, 1, 1, 1, 1, 1, 1, 1, 1, 1, 1, 1, 1, 1, 1, 1, 1, 1, 1, 1, 1, 1, 1, 1, 1, 1, 1, 1, 1, 1, 1, 1, 1, 1, 1, 1, 1, 1, 1, 1, 1, 1, 1, 1, 1, 1, 1, 1, 1, 1, 1, 1, 1, 1, 1, 1, 1, 1, 1, 1, 1, 1, 1, 1, 1, 1, 1, 1, 1, 1, 1, 1, 1, 1, 1, 1, 1, 1, 1, 1, 1, 1, 1, 1, 1, 1, 1, 1, 1, 1, 1, 1, 1, 1, 1, 1, 1, 1, 1, 1, 1, 1, 1, 1, 1, 1, 1, 1, 1, 1, 1, 1, 1, 1, 1, 1, 1, 1, 1, 1, 1, 1, 1, 1, 1, 1, 1, 1, 1, 1, 1, 1, 1, 1, 1, 1, 1, 1, 1, 1, 1, 1, 1, 1, 1, 1, 1, 1, 1, 1, 1, 1, 1, 1, 1, 1, 1, 1, 1, 1, 1, 1, 1, 1, 1, 1, 1, 1, 1, 1, 1, 1, 1, 1, 1, 1, 1, 1, 1, 1, 1, 1, 1, 1, 1, 1, 1, 1, 1, 1, 1, 1, 1, 1, 1, 1, 1, 1, 1, 1, 1, 1, 1, 1, 1, 1, 1, 1, 1, 1, 1, 1, 1, 1, 1, 1, 1, 1, 1, 1, 1, 1, 1, 1, 1, 1, 1, 1, 1, 1, 1, 1, 1, 1, 1, 1, 1, 1, 1, 1, 1, 1, 1, 1, 1, 1, 1, 1, 1, 1, 1, 1, 1, 1, 1, 1, 1, 1, 1, 1, 1, 1, 1, 1, 1, 1, 1, 1, 1, 1, 1, 1, 1, 1, 1, 1, 1, 1, 1, 1, 1, 1, 1, 1, 1, 1, 1, 1, 1, 1, 1, 1, 1, 1, 1, 1, 1, 1, 1, 1, 1, 1, 1, 1, 1, 1, 1, 1, 1, 1, 1, 1, 1, 1, 1, 1, 1, 1, 1, 1, 1, 1, 1, 1, 1, 1, 1, 1, 1, 1, 1, 1, 1, 1, 1, 1, 1, 1, 1, 1, 1, 1, 1, 1, 1, 1, 1, 1, 1, 1, 1, 1, 1, 1, 1, 1, 1, 1, 1, 1, 1, 1, 1, 1, 1, 1, 1, 1, 1, 1, 1, 1, 1, 1, 1, 1, 1, 1, 1, 1, 1, 1, 1, 1, 1, 1, 1, 1, 1, 1, 1, 1, 1, 1, 1, 1, 1, 1, 1, 1, 1, 1, 1, 1, 1, 1, 1, 1, 1, 1, 1, 1, 1, 1, 1, 1, 1, 1, 1, 1, 1, 1, 1, 1, 1, 1, 1, 1, 1, 1, 1, 1, 1, 1, 1, 1, 1, 1, 1, 1, 1, 1, 1, 1, 1, 1, 1, 1, 1, 1, 1, 1, 1, 1, 1, 1, 1, 1, 1, 1, 1, 1, 1, 1, 1, 1, 1, 1, 1, 1, 1, 1, 1, 1, 1, 1, 1, 1, 1, 1, 1, 1, 1, 1, 1, 1, 1, 1, 1, 1, 1, 1, 1, 1, 1, 1, 1, 1, 1, 1, 1, 1, 1, 1, 1, 1, 1, 1, 1, 1, 1, 1, 1, 1, 1, 1, 1, 1, 1, 1, 1, 1, 1, 1, 1, 1, 1, 1, 1, 1, 1, 1, 1, 1, 1, 1, 1, 1, 1, 1, 1, 1, 1, 1, 1, 1, 1, 1, 1, 1, 1, 1, 1, 1, 1, 1, 1, 1, 1, 1, 1, 1, 1, 1, 1, 1, 1, 1, 1, 1, 1, 1, 1, 1, 1, 1, 1, 1, 1, 1, 1, 1, 1, 1, 1, 1, 1, 1, 1, 1, 1, 1, 1, 1, 1, 1, 1, 1, 1, 1, 1, 1, 1, 1, 1, 1, 1, 1, 1, 1, 1, 1, 1, 1, 1, 1, 1, 1, 1, 1, 1, 1, 1, 1, 1, 1, 1, 1, 1, 1, 1, 1, 1, 1, 1, 1, 1, 1, 1, 1, 1, 1, 1, 1, 1, 1, 1, 1, 1, 1, 1, 1, 1, 1, 1, 1, 1, 1, 1, 1, 1, 1, 1, 1, 1, 1, 1, 1, 1, 1, 1, 1, 1, 1, 1, 1, 1, 1, 1, 1, 1, 1, 1, 1, 1, 1, 1, 1, 1, 1, 1, 1, 1, 1, 1, 1, 1, 1, 1, 1, 1, 1, 1, 1, 1, 1, 1, 1, 1, 1, 1, 1, 1, 1, 1, 1, 1, 1, 1, 1, 1, 1, 1, 1, 1, 1, 1, 1, 1, 1, 1, 1, 1, 1, 1, 1, 1, 1, 1, 1, 1, 1, 1, 1, 1, 1, 1, 1, 1, 1, 1, 1, 1, 1, 1, 1, 1, 1, 1, 1, 1, 1, 1, 1, 1, 1, 1, 1, 1, 1, 1, 1, 1, 1, 1, 1, 1, 1, 1, 1, 1, 1, 1, 1, 1, 1, 1, 1, 1, 1, 1, 1, 1, 1, 1, 1, 1, 1, 1, 1, 1, 1, 1, 1, 1, 1, 1, 1, 1, 1, 1, 1, 1, 1, 1, 1, 1, 1, 1, 1, 1, 1, 1, 1, 1, 1, 1, 1, 1, 1, 1, 1, 1, 1, 1, 1, 1, 1, 1, 1, 1, 1, 1, 1, 1, 1, 1, 1, 1, 1, 1, 1, 1, 1, 1, 1, 1, 1, 1, 1, 1, 1, 1, 1, 1, 1, 1, 1, 1, 1, 1, 1, 1, 1, 1, 1, 1, 1, 1, 1, 1, 1, 1, 1, 1, 1, 1, 1, 1, 1, 1, 1, 1, 1, 1, 1, 1, 1, 1, 1, 1, 1, 1, 1, 1, 1, 1, 1, 1, 1, 1, 1, 1, 1, 1, 1, 1, 1, 1, 1, 1, 1, 1, 1, 1, 1, 1, 1, 1, 1, 1, 1, 1, 1, 1, 1, 1, 1, 1, 1, 1, 1, 1, 1, 1, 1, 1, 1, 1, 1, 1, 1, 1, 1, 1, 1, 1, 1, 1, 1, 1, 1, 1, 1, 1, 1, 1, 1, 1, 1, 1, 1, 1, 1, 1, 1, 1, 1, 1, 1, 1, 1, 1, 1, 1, 1, 1, 1, 1, 1, 1, 1, 1, 1, 1, 1, 1, 1, 1, 1, 1, 1, 1, 1, 1, 1, 1, 1, 1, 1, 1, 1, 1, 1, 1, 1, 1, 1, 1, 1, 1, 1, 1, 1, 1, 1, 1, 1, 1, 1, 1, 1, 1, 1, 1, 1, 1, 1, 1, 1, 1, 1, 1, 1, 1, 1, 1, 1, 1, 1, 1, 1, 1, 1, 1, 1, 1, 1, 1, 1, 1, 1, 1, 1, 1, 1, 1, 1, 1, 1, 1, 1, 1, 1, 1, 1, 1, 1, 1, 1, 1, 1, 1, 1, 1, 1, 1, 1, 1, 1, 1, 1, 1, 1, 1, 1, 1, 1, 1, 1, 1, 1, 1, 1, 1, 1, 1, 1, 1, 1, 1, 1, 1, 1, 1, 1, 1, 1, 1, 1, 1, 1, 1, 1, 1, 1, 1, 1, 1, 1, 1, 1, 1, 1, 1, 1, 1, 1, 1, 1, 1, 1, 1, 1, 1, 1, 1, 1, 1, 1, 1, 1, 1, 1, 1, 1, 1, 1, 1, 1, 1, 1, 1, 1, 1, 1, 1, 1, 1, 1, 1, 1, 1, 1, 1, 1, 1, 1, 1, 1, 1, 1, 1, 1, 1, 1, 1, 1, 1, 1, 1, 1, 1, 1, 1, 1, 1, 1, 1, 1, 1, 1, 1, 1, 1, 1, 1, 1, 1, 1, 1, 1, 1, 1, 1, 1, 1, 1, 1, 1, 1, 1, 1, 1, 1, 1, 1, 1, 1, 1, 1, 1, 1, 1, 1, 1, 1, 1, 1, 1, 1, 1, 1, 1, 1, 1, 1, 1, 1, 1, 1, 1, 1, 1, 1, 1, 1, 1, 1, 1, 1, 1, 1, 1, 1, 1, 1, 1, 1, 1, 1, 1, 1, 1, 1, 1, 1, 1, 1, 1, 1, 1, 1, 1, 1, 1, 1, 1, 1, 1, 1, 1, 1, 1, 1, 1, 1, 1, 1, 1, 1, 1, 1, 1, 1, 1, 1, 1, 1, 1, 1, 1, 1, 1, 1, 1, 1, 1, 1, 1, 1, 1, 1, 1, 1, 1, 1, 1, 1, 1, 1, 1, 1, 1, 1, 1, 1, 1, 1, 1, 1, 1, 1, 1, 1, 1, 1, 1, 1, 1, 1, 1, 1, 1, 1, 1, 1, 1, 1, 1, 1, 1, 1, 1, 1, 1, 1, 1, 1, 1, 1, 1, 1, 1, 1, 1, 1, 1, 1, 1, 1, 1, 1, 1, 1, 1, 1, 1, 1, 1, 1, 1, 1, 1, 1, 1, 1, 1, 1, 1, 1, 1, 1, 1, 1, 1, 1, 1, 1, 1, 1, 1, 1, 1, 1, 1, 1, 1, 1, 1, 1, 1, 1, 1, 1, 1, 1, 1, 1, 1, 1, 1, 1, 1, 1, 1, 1, 1, 1, 1, 1, 1, 1, 1, 1, 1, 1, 1, 1, 1, 1, 1, 1, 1, 1, 1, 1, 1, 1, 1, 1, 1, 1, 1, 1, 1, 1, 1, 1, 1, 1, 1, 1, 1, 1, 1, 1, 1, 1, 1, 1, 1, 1, 1, 1, 1, 1, 1, 1, 1, 1, 1, 1, 1, 1, 1, 1, 1, 1, 1, 1, 1, 1, 1, 1, 1, 1, 1, 1, 1, 1, 1, 1, 1, 1, 1, 1, 1, 1, 1, 1, 1, 1, 1, 1, 1, 1, 1, 1, 1, 1, 1, 1, 1, 1, 1, 1, 1, 1, 1, 1, 1, 1, 1, 1, 1, 1, 1, 1, 1, 1, 1, 1, 1, 1, 1, 1, 1, 1, 1, 1, 1, 1, 1, 1, 1, 1, 1, 1, 1, 1, 1, 1, 1, 1, 1, 1, 1, 1, 1, 1, 1, 1, 1, 1, 1, 1, 1, 1, 1, 1, 1, 1, 1, 1, 1, 1, 1, 1, 1, 1, 1, 1, 1, 1, 1, 1, 1, 1, 1, 1, 1, 1, 1, 1, 1, 1, 1, 1, 1, 1, 1, 1, 1, 1, 1, 1, 1, 1, 1, 1, 1, 1, 1, 1, 1, 1, 1, 1, 1, 1, 1, 1, 1, 1, 1, 1, 1, 1, 1, 1, 1, 1, 1, 1, 1, 1, 1, 1, 1, 1, 1, 1, 1, 1, 1, 1, 1, 1, 1, 1, 1, 1, 1, 1, 1, 1, 1, 1, 1, 1, 1, 1, 1, 1, 1, 1, 1, 1, 1, 1, 1, 1, 1, 1, 1, 1, 1, 1, 1, 1, 1, 1, 1, 1, 1, 1, 1, 1, 1, 1, 1, 1, 1, 1, 1, 1, 1, 1, 1, 1, 1, 1, 1, 1, 1, 1, 1, 1, 1, 1, 1, 1, 1, 1, 1, 1, 1, 1, 1, 1, 1, 1, 1, 1, 1, 1, 1, 1, 1, 1, 1, 1, 1, 1, 1, 1, 1, 1, 1, 1, 1, 1, 1, 1, 1, 1, 1, 1, 1, 1, 1, 1, 1, 1, 1, 1, 1, 1, 1, 1, 1, 1, 1, 1, 1, 1, 1, 1, 1, 1, 1, 1, 1, 1, 1, 1, 1, 1, 1, 1, 1, 1, 1, 1, 1, 1, 1, 1, 1, 1, 1, 1, 1, 1, 1, 1, 1, 1, 1, 1, 1, 1, 1, 1, 1, 1, 1, 1, 1, 1, 1, 1, 1, 1, 1, 1, 1, 1, 1, 1, 1, 1, 1, 1, 1, 1, 1, 1, 1, 1, 1, 1, 1, 1, 1, 1, 1, 1, 1, 1, 1, 1, 1, 1, 1, 1, 1, 1, 1, 1, 1, 1, 1, 1, 1, 1, 1, 1, 1, 1, 1, 1, 1, 1, 1, 1, 1, 1, 1, 1, 1, 1, 1, 1, 1, 1, 1, 1, 1, 1, 1, 1, 1, 1, 1, 1, 1, 1, 1, 1, 1, 1, 1, 1, 1, 1, 1, 1, 1, 1, 1, 1, 1, 1, 1, 1, 1, 1, 1, 1, 1, 1, 1, 1, 1, 1, 1, 1, 1, 1, 1, 1, 1, 1, 1, 1, 1, 1, 1, 1, 1, 1, 1, 1, 1, 1, 1, 1, 1, 1, 1, 1, 1, 1, 1, 1, 1, 1, 1, 1, 1, 1, 1, 1, 1, 1, 1, 1, 1, 1, 1, 1, 1, 1, 1, 1, 1, 1, 1, 1, 1, 1, 1, 1, 1, 1, 1, 1, 1, 1, 1, 1, 1, 1, 1, 1, 1, 1, 1, 1, 1, 1, 1, 1, 1, 1, 1, 1, 1, 1, 1, 1, 1, 1, 1, 1, 1, 1, 1, 1, 1, 1, 1, 1, 1, 1, 1, 1, 1, 1, 1, 1, 1, 1, 1, 1, 1, 1, 1, 1, 1, 1, 1, 1, 1, 1, 1, 1, 1, 1, 1, 1, 1, 1, 1, 1, 1, 1, 1, 1, 1, 1, 1, 1, 1, 1, 1, 1, 1, 1, 1, 1, 1, 1, 1, 1, 1, 1, 1, 1, 1, 1, 1, 1, 1, 1, 1, 1, 1, 1, 1, 1, 1, 1, 1, 1, 1, 1, 1, 1, 1, 1, 1, 1, 1, 1, 1, 1, 1, 1, 1, 1, 1, 1, 1, 1, 1, 1, 1, 1, 1, 1, 1, 1, 1, 1, 1, 1, 1, 1, 1, 1, 1, 1, 1, 1, 1, 1, 1, 1, 1, 1, 1, 1, 1, 1, 1, 1, 1, 1, 1, 1, 1, 1, 1, 1, 1, 1, 1, 1, 1, 1, 1, 1, 1, 1, 1, 1, 1, 1, 1, 1, 1, 1, 1, 1, 1, 1, 1, 1, 1, 1, 1, 1, 1, 1, 1, 1, 1, 1, 1, 1, 1, 1, 1, 1, 1, 1, 1, 1, 1, 1, 1, 1, 1, 1, 1, 1, 1, 1, 1, 1, 1, 1, 1, 1, 1, 1, 1, 1, 1, 1, 1, 1, 1, 1, 1, 1, 1, 1, 1, 1, 1, 1, 1, 1, 1, 1, 1, 1, 1, 1, 1, 1, 1, 1, 1, 1, 1, 1, 1, 1, 1, 1, 1, 1, 1, 1, 1, 1, 1, 1, 1, 1, 1, 1, 1, 1, 1, 1, 1, 1, 1, 1, 1, 1, 1, 1, 1, 1, 1, 1, 1, 1, 1, 1, 1, 1, 1, 1, 1, 1, 1, 1, 1, 1, 1, 1, 1, 1, 1, 1, 1, 1, 1, 1, 1, 1, 1, 1, 1, 1, 1, 1, 1, 1, 1, 1, 1, 1, 1, 1, 1, 1, 1, 1, 1, 1, 1, 1, 1, 1, 1, 1, 1, 1, 1, 1, 1, 1, 1, 1, 1, 1, 1, 1, 1, 1, 1, 1, 1, 1, 1, 1, 1, 1, 1, 1, 1, 1, 1, 1, 1, 1, 1, 1, 1, 1, 1, 1, 1, 1, 1, 1, 1, 1, 1, 1, 1, 1, 1, 1, 1, 1, 1, 1, 1, 1, 1, 1, 1, 1, 1, 1, 1, 1, 1, 1, 1, 1, 1, 1, 1, 1, 1, 1, 1, 1, 1, 1, 1, 1, 1, 1, 1, 1, 1, 1, 1, 1, 1, 1, 1, 1, 1, 1, 1, 1, 1, 1, 1, 1, 1, 1, 1, 1, 1, 1, 1, 1, 1, 1, 1, 1, 1, 1, 1, 1, 1, 1, 1, 1, 1, 1, 1, 1, 1, 1, 1, 1, 1, 1, 1, 1, 1, 1, 1, 1, 1, 1, 1, 1, 1, 1, 1, 1, 1, 1, 1, 1, 1, 1, 1, 1, 1, 1, 1, 1, 1, 1, 1, 1, 1, 1, 1, 1, 1, 1, 1, 1, 1, 1, 1, 1, 1, 1, 1, 1, 1, 1, 1, 1, 1, 1, 1, 1, 1, 1, 1, 1, 1, 1, 1, 1, 1, 1, 1, 1, 1, 1, 1, 1, 1, 1, 1, 1, 1, 1, 1, 1, 1, 1, 1, 1, 1, 1, 1, 1, 1, 1, 1, 1, 1, 1, 1, 1, 1, 1, 1, 1, 1, 1, 1, 1, 1, 1, 1, 1, 1, 1, 1, 1, 1, 1, 1, 1, 1, 1, 1, 1, 1, 1, 1, 1, 1, 1, 1, 1, 1, 1, 1, 1, 1, 1, 1, 1, 1, 1, 1, 1, 1, 1, 1, 1, 1, 1, 1, 1, 1, 1, 1, 1, 1, 1, 1, 1, 1, 1, 1, 1, 1, 1, 1, 1, 1, 1, 1, 1, 1, 1, 1, 1, 1, 1, 1, 1, 1, 1, 1, 1, 1, 1, 1, 1, 1, 1, 1, 1, 1, 1, 1, 1, 1, 1, 1, 1, 1, 1, 1, 1, 1, 1, 1, 1, 1, 1, 1, 1, 1, 1, 1, 1, 1, 1, 1, 1, 1, 1, 1, 1, 1, 1, 1, 1, 1, 1, 1, 1, 1, 1, 1, 1, 1, 1, 1, 1, 1, 1, 1, 1, 1, 1, 1, 1, 1, 1, 1, 1, 1, 1, 1, 1, 1, 1, 1, 1, 1, 1, 1, 1, 1, 1, 1, 1, 1, 1, 1, 1, 1, 1, 1, 1, 1, 1, 1, 1, 1, 1, 1, 1, 1, 1, 1, 1, 1, 1, 1, 1, 1, 1, 1, 1, 1, 1, 1, 1, 1, 1, 1, 1, 1, 1, 1, 1, 1, 1, 1, 1, 1, 1, 1, 1, 1, 1, 1, 1, 1, 1, 1, 1, 1, 1, 1, 1, 1, 1, 1, 1, 1, 1, 1, 1, 1, 1, 1, 1, 1, 1, 1, 1, 1, 1, 70]),\n",
       "      dtype=object)"
      ]
     },
     "execution_count": 213,
     "metadata": {},
     "output_type": "execute_result"
    }
   ],
   "source": [
    "freqVec"
   ]
  },
  {
   "cell_type": "code",
   "execution_count": 209,
   "metadata": {},
   "outputs": [
    {
     "data": {
      "text/plain": [
       "[1,\n",
       " 1,\n",
       " 1,\n",
       " 1,\n",
       " 1,\n",
       " 1,\n",
       " 1,\n",
       " 1,\n",
       " 1,\n",
       " 1,\n",
       " 1,\n",
       " 1,\n",
       " 1,\n",
       " 1,\n",
       " 1,\n",
       " 1,\n",
       " 1,\n",
       " 1,\n",
       " 1,\n",
       " 1,\n",
       " 1,\n",
       " 1,\n",
       " 1,\n",
       " 1,\n",
       " 1,\n",
       " 1,\n",
       " 1,\n",
       " 1,\n",
       " 1,\n",
       " 1,\n",
       " 1,\n",
       " 1,\n",
       " 1,\n",
       " 1,\n",
       " 1,\n",
       " 1,\n",
       " 1,\n",
       " 1,\n",
       " 1,\n",
       " 1,\n",
       " 1,\n",
       " 1,\n",
       " 1,\n",
       " 1,\n",
       " 1,\n",
       " 1,\n",
       " 1,\n",
       " 1,\n",
       " 6,\n",
       " 1,\n",
       " 1,\n",
       " 1,\n",
       " 1,\n",
       " 1,\n",
       " 1,\n",
       " 1,\n",
       " 1,\n",
       " 1,\n",
       " 1,\n",
       " 1,\n",
       " 1,\n",
       " 1,\n",
       " 1,\n",
       " 1,\n",
       " 1,\n",
       " 1,\n",
       " 1,\n",
       " 1,\n",
       " 1,\n",
       " 1,\n",
       " 1,\n",
       " 1,\n",
       " 1,\n",
       " 1,\n",
       " 1,\n",
       " 1,\n",
       " 1,\n",
       " 1,\n",
       " 1,\n",
       " 1,\n",
       " 1,\n",
       " 1,\n",
       " 1,\n",
       " 1,\n",
       " 1,\n",
       " 1,\n",
       " 1,\n",
       " 1,\n",
       " 1,\n",
       " 1,\n",
       " 1,\n",
       " 1,\n",
       " 1,\n",
       " 1,\n",
       " 1,\n",
       " 1,\n",
       " 1,\n",
       " 1,\n",
       " 1,\n",
       " 1,\n",
       " 1,\n",
       " 1,\n",
       " 1,\n",
       " 1,\n",
       " 1,\n",
       " 1,\n",
       " 1,\n",
       " 1,\n",
       " 1,\n",
       " 1,\n",
       " 1,\n",
       " 1,\n",
       " 1,\n",
       " 1,\n",
       " 1,\n",
       " 1,\n",
       " 1,\n",
       " 1,\n",
       " 1,\n",
       " 1,\n",
       " 1,\n",
       " 1,\n",
       " 1,\n",
       " 1,\n",
       " 1,\n",
       " 1,\n",
       " 1,\n",
       " 1,\n",
       " 1,\n",
       " 1,\n",
       " 1,\n",
       " 1,\n",
       " 1,\n",
       " 1,\n",
       " 1,\n",
       " 1,\n",
       " 1,\n",
       " 1,\n",
       " 1,\n",
       " 1,\n",
       " 1,\n",
       " 1,\n",
       " 1,\n",
       " 1,\n",
       " 1,\n",
       " 1,\n",
       " 1,\n",
       " 1,\n",
       " 1,\n",
       " 1,\n",
       " 1,\n",
       " 1,\n",
       " 1,\n",
       " 1,\n",
       " 1,\n",
       " 1,\n",
       " 1,\n",
       " 1,\n",
       " 1,\n",
       " 1,\n",
       " 1,\n",
       " 1,\n",
       " 1,\n",
       " 1,\n",
       " 1,\n",
       " 1,\n",
       " 1,\n",
       " 1,\n",
       " 1,\n",
       " 1,\n",
       " 1,\n",
       " 1,\n",
       " 1,\n",
       " 1,\n",
       " 1,\n",
       " 1,\n",
       " 1,\n",
       " 1,\n",
       " 1,\n",
       " 1,\n",
       " 1,\n",
       " 1,\n",
       " 1,\n",
       " 1,\n",
       " 1,\n",
       " 1,\n",
       " 1,\n",
       " 1,\n",
       " 1,\n",
       " 1,\n",
       " 1,\n",
       " 1,\n",
       " 1,\n",
       " 1,\n",
       " 1,\n",
       " 1,\n",
       " 1,\n",
       " 1,\n",
       " 1,\n",
       " 1,\n",
       " 1,\n",
       " 1,\n",
       " 1,\n",
       " 1,\n",
       " 1,\n",
       " 1,\n",
       " 1,\n",
       " 1,\n",
       " 1,\n",
       " 1,\n",
       " 1,\n",
       " 1,\n",
       " 1,\n",
       " 1,\n",
       " 1,\n",
       " 1,\n",
       " 1,\n",
       " 1,\n",
       " 1,\n",
       " 1,\n",
       " 1,\n",
       " 1,\n",
       " 1,\n",
       " 1,\n",
       " 1,\n",
       " 1,\n",
       " 1,\n",
       " 1,\n",
       " 1,\n",
       " 1,\n",
       " 1,\n",
       " 1,\n",
       " 1,\n",
       " 1,\n",
       " 1,\n",
       " 1,\n",
       " 1,\n",
       " 1,\n",
       " 1,\n",
       " 1,\n",
       " 1,\n",
       " 1,\n",
       " 1,\n",
       " 1,\n",
       " 1,\n",
       " 1,\n",
       " 1,\n",
       " 1,\n",
       " 1,\n",
       " 1,\n",
       " 1,\n",
       " 1,\n",
       " 1,\n",
       " 1,\n",
       " 1,\n",
       " 1,\n",
       " 1,\n",
       " 1,\n",
       " 1,\n",
       " 1,\n",
       " 1,\n",
       " 1,\n",
       " 1,\n",
       " 1,\n",
       " 1,\n",
       " 1,\n",
       " 1,\n",
       " 1,\n",
       " 1,\n",
       " 1,\n",
       " 1,\n",
       " 1,\n",
       " 1,\n",
       " 1,\n",
       " 1,\n",
       " 1,\n",
       " 1,\n",
       " 1,\n",
       " 1,\n",
       " 1,\n",
       " 1,\n",
       " 1,\n",
       " 1,\n",
       " 1,\n",
       " 1,\n",
       " 1,\n",
       " 1,\n",
       " 1,\n",
       " 1,\n",
       " 1,\n",
       " 1,\n",
       " 1,\n",
       " 1,\n",
       " 1,\n",
       " 1,\n",
       " 1,\n",
       " 1,\n",
       " 1,\n",
       " 1,\n",
       " 1,\n",
       " 1,\n",
       " 1,\n",
       " 1,\n",
       " 1,\n",
       " 1,\n",
       " 1,\n",
       " 1,\n",
       " 1,\n",
       " 1,\n",
       " 1,\n",
       " 1,\n",
       " 1,\n",
       " 1,\n",
       " 1,\n",
       " 1,\n",
       " 1,\n",
       " 1,\n",
       " 1,\n",
       " 1,\n",
       " 1,\n",
       " 1,\n",
       " 1]"
      ]
     },
     "execution_count": 209,
     "metadata": {},
     "output_type": "execute_result"
    }
   ],
   "source": [
    "t1.trace.freqVecUS"
   ]
  },
  {
   "cell_type": "code",
   "execution_count": 206,
   "metadata": {},
   "outputs": [
    {
     "data": {
      "text/plain": [
       "(array([9.99667e+05, 0.00000e+00, 0.00000e+00, 0.00000e+00, 0.00000e+00,\n",
       "        0.00000e+00, 0.00000e+00, 0.00000e+00, 0.00000e+00, 0.00000e+00,\n",
       "        0.00000e+00, 0.00000e+00, 0.00000e+00, 0.00000e+00, 0.00000e+00,\n",
       "        0.00000e+00, 0.00000e+00, 0.00000e+00, 0.00000e+00, 0.00000e+00,\n",
       "        0.00000e+00, 0.00000e+00, 0.00000e+00, 0.00000e+00, 0.00000e+00,\n",
       "        0.00000e+00, 0.00000e+00, 0.00000e+00, 0.00000e+00, 0.00000e+00,\n",
       "        0.00000e+00, 0.00000e+00, 0.00000e+00, 0.00000e+00, 0.00000e+00,\n",
       "        0.00000e+00, 0.00000e+00, 0.00000e+00, 0.00000e+00, 0.00000e+00,\n",
       "        0.00000e+00, 0.00000e+00, 0.00000e+00, 0.00000e+00, 0.00000e+00,\n",
       "        0.00000e+00, 0.00000e+00, 0.00000e+00, 0.00000e+00, 3.33000e+02]),\n",
       " array([0.  , 0.02, 0.04, 0.06, 0.08, 0.1 , 0.12, 0.14, 0.16, 0.18, 0.2 ,\n",
       "        0.22, 0.24, 0.26, 0.28, 0.3 , 0.32, 0.34, 0.36, 0.38, 0.4 , 0.42,\n",
       "        0.44, 0.46, 0.48, 0.5 , 0.52, 0.54, 0.56, 0.58, 0.6 , 0.62, 0.64,\n",
       "        0.66, 0.68, 0.7 , 0.72, 0.74, 0.76, 0.78, 0.8 , 0.82, 0.84, 0.86,\n",
       "        0.88, 0.9 , 0.92, 0.94, 0.96, 0.98, 1.  ]),\n",
       " <a list of 50 Patch objects>)"
      ]
     },
     "execution_count": 206,
     "metadata": {},
     "output_type": "execute_result"
    },
    {
     "data": {
      "image/png": "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\n",
      "text/plain": [
       "<Figure size 432x288 with 1 Axes>"
      ]
     },
     "metadata": {
      "needs_background": "light"
     },
     "output_type": "display_data"
    }
   ],
   "source": [
    "plt.hist(e, bins =50)"
   ]
  },
  {
   "cell_type": "code",
   "execution_count": 186,
   "metadata": {},
   "outputs": [],
   "source": [
    "d = np.array(self.trace.freqVecUS)"
   ]
  },
  {
   "cell_type": "code",
   "execution_count": 187,
   "metadata": {},
   "outputs": [
    {
     "data": {
      "text/plain": [
       "array([1, 1, 1, 1, 1, 1, 1, 1, 1, 1, 1, 1, 1, 1, 1, 1, 1, 1, 1, 1, 1, 1,\n",
       "       1, 1, 1, 1, 1, 1, 1, 1, 1, 1, 1, 1, 1, 1, 1, 1, 1, 1, 1, 1, 1, 1,\n",
       "       1, 1, 1, 1, 6, 1, 1, 1, 1, 1, 1, 1, 1, 1, 1, 1, 1, 1, 1, 1, 1, 1,\n",
       "       1, 1, 1, 1, 1, 1, 1, 1, 1, 1, 1, 1, 1, 1, 1, 1, 1, 1, 1, 1, 1, 1,\n",
       "       1, 1, 1, 1, 1, 1, 1, 1, 1, 1, 1, 1, 1, 1, 1, 1, 1, 1, 1, 1, 1, 1,\n",
       "       1, 1, 1, 1, 1, 1, 1, 1, 1, 1, 1, 1, 1, 1, 1, 1, 1, 1, 1, 1, 1, 1,\n",
       "       1, 1, 1, 1, 1, 1, 1, 1, 1, 1, 1, 1, 1, 1, 1, 1, 1, 1, 1, 1, 1, 1,\n",
       "       1, 1, 1, 1, 1, 1, 1, 1, 1, 1, 1, 1, 1, 1, 1, 1, 1, 1, 1, 1, 1, 1,\n",
       "       1, 1, 1, 1, 1, 1, 1, 1, 1, 1, 1, 1, 1, 1, 1, 1, 1, 1, 1, 1, 1, 1,\n",
       "       1, 1, 1, 1, 1, 1, 1, 1, 1, 1, 1, 1, 1, 1, 1, 1, 1, 1, 1, 1, 1, 1,\n",
       "       1, 1, 1, 1, 1, 1, 1, 1, 1, 1, 1, 1, 1, 1, 1, 1, 1, 1, 1, 1, 1, 1,\n",
       "       1, 1, 1, 1, 1, 1, 1, 1, 1, 1, 1, 1, 1, 1, 1, 1, 1, 1, 1, 1, 1, 1,\n",
       "       1, 1, 1, 1, 1, 1, 1, 1, 1, 1, 1, 1, 1, 1, 1, 1, 1, 1, 1, 1, 1, 1,\n",
       "       1, 1, 1, 1, 1, 1, 1, 1, 1, 1, 1, 1, 1, 1, 1, 1, 1, 1, 1, 1, 1, 1,\n",
       "       1, 1, 1, 1, 1, 1, 1, 1, 1, 1, 1, 1, 1, 1])"
      ]
     },
     "execution_count": 187,
     "metadata": {},
     "output_type": "execute_result"
    }
   ],
   "source": [
    "d"
   ]
  },
  {
   "cell_type": "code",
   "execution_count": 126,
   "metadata": {},
   "outputs": [],
   "source": [
    "num = self.trace.sDict"
   ]
  },
  {
   "cell_type": "code",
   "execution_count": 128,
   "metadata": {},
   "outputs": [
    {
     "data": {
      "text/plain": [
       "array([ 684609., 8615408., 5421538., ..., 1362657., 1082387., 2857676.])"
      ]
     },
     "execution_count": 128,
     "metadata": {},
     "output_type": "execute_result"
    }
   ],
   "source": [
    "num"
   ]
  },
  {
   "cell_type": "code",
   "execution_count": 127,
   "metadata": {},
   "outputs": [
    {
     "data": {
      "text/plain": [
       "1000000"
      ]
     },
     "execution_count": 127,
     "metadata": {},
     "output_type": "execute_result"
    }
   ],
   "source": [
    "len(num)"
   ]
  },
  {
   "cell_type": "code",
   "execution_count": 129,
   "metadata": {},
   "outputs": [
    {
     "data": {
      "text/plain": [
       "291"
      ]
     },
     "execution_count": 129,
     "metadata": {},
     "output_type": "execute_result"
    }
   ],
   "source": [
    "np.sum(num <= 3270)"
   ]
  },
  {
   "cell_type": "code",
   "execution_count": 140,
   "metadata": {},
   "outputs": [],
   "source": [
    "aa = np.array(uni.trace.freqVecUU)\n",
    "bb = np.array(uni.trace.freqVecUS)\n"
   ]
  },
  {
   "cell_type": "code",
   "execution_count": null,
   "metadata": {},
   "outputs": [],
   "source": []
  },
  {
   "cell_type": "code",
   "execution_count": null,
   "metadata": {},
   "outputs": [],
   "source": []
  },
  {
   "cell_type": "code",
   "execution_count": 155,
   "metadata": {},
   "outputs": [],
   "source": [
    "c = [100,*UU3, *US3]"
   ]
  },
  {
   "cell_type": "code",
   "execution_count": 164,
   "metadata": {},
   "outputs": [
    {
     "data": {
      "text/plain": [
       "[100, 239.17, 1.66, 0.0, 260.0, 1.89, 0.0]"
      ]
     },
     "execution_count": 164,
     "metadata": {},
     "output_type": "execute_result"
    }
   ],
   "source": [
    "c"
   ]
  },
  {
   "cell_type": "code",
   "execution_count": 162,
   "metadata": {},
   "outputs": [
    {
     "data": {
      "text/plain": [
       "array([100.  , 239.17,   1.66,   0.  , 260.  ,   1.89,   0.  ])"
      ]
     },
     "execution_count": 162,
     "metadata": {},
     "output_type": "execute_result"
    }
   ],
   "source": [
    "np.append(np.array([]),c)"
   ]
  },
  {
   "cell_type": "code",
   "execution_count": 163,
   "metadata": {},
   "outputs": [
    {
     "data": {
      "text/plain": [
       "array([100.  , 239.17,   1.66,   0.  , 260.  ,   1.89,   0.  , 100.  ,\n",
       "       239.17,   1.66,   0.  , 260.  ,   1.89,   0.  ])"
      ]
     },
     "execution_count": 163,
     "metadata": {},
     "output_type": "execute_result"
    }
   ],
   "source": [
    "np.append(c,c)"
   ]
  },
  {
   "cell_type": "code",
   "execution_count": 151,
   "metadata": {},
   "outputs": [],
   "source": [
    "UU3 = uni.trace.UU3"
   ]
  },
  {
   "cell_type": "code",
   "execution_count": 152,
   "metadata": {},
   "outputs": [],
   "source": [
    "US3 = uni.trace.US3"
   ]
  },
  {
   "cell_type": "code",
   "execution_count": 135,
   "metadata": {},
   "outputs": [
    {
     "data": {
      "text/plain": [
       "array([0, 0, 0, ..., 0, 0, 0])"
      ]
     },
     "execution_count": 135,
     "metadata": {},
     "output_type": "execute_result"
    }
   ],
   "source": [
    "aa"
   ]
  },
  {
   "cell_type": "code",
   "execution_count": 143,
   "metadata": {},
   "outputs": [
    {
     "data": {
      "text/plain": [
       "163.0"
      ]
     },
     "execution_count": 143,
     "metadata": {},
     "output_type": "execute_result"
    }
   ],
   "source": [
    "norm_fns(bb)"
   ]
  },
  {
   "cell_type": "code",
   "execution_count": 92,
   "metadata": {},
   "outputs": [
    {
     "data": {
      "text/plain": [
       "320"
      ]
     },
     "execution_count": 92,
     "metadata": {},
     "output_type": "execute_result"
    }
   ],
   "source": [
    "len(bb)"
   ]
  },
  {
   "cell_type": "code",
   "execution_count": 90,
   "metadata": {},
   "outputs": [
    {
     "data": {
      "text/plain": [
       "100000"
      ]
     },
     "execution_count": 90,
     "metadata": {},
     "output_type": "execute_result"
    }
   ],
   "source": [
    "len(aa)"
   ]
  },
  {
   "cell_type": "code",
   "execution_count": 87,
   "metadata": {},
   "outputs": [
    {
     "data": {
      "text/plain": [
       "399"
      ]
     },
     "execution_count": 87,
     "metadata": {},
     "output_type": "execute_result"
    }
   ],
   "source": [
    "np.sum(aa)"
   ]
  },
  {
   "cell_type": "code",
   "execution_count": 64,
   "metadata": {},
   "outputs": [
    {
     "data": {
      "text/plain": [
       "[<matplotlib.lines.Line2D at 0x7f8a66b8bcd0>]"
      ]
     },
     "execution_count": 64,
     "metadata": {},
     "output_type": "execute_result"
    },
    {
     "data": {
      "image/png": "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\n",
      "text/plain": [
       "<Figure size 432x288 with 1 Axes>"
      ]
     },
     "metadata": {
      "needs_background": "light"
     },
     "output_type": "display_data"
    }
   ],
   "source": [
    "plt.plot(aa)"
   ]
  },
  {
   "cell_type": "code",
   "execution_count": null,
   "metadata": {},
   "outputs": [],
   "source": [
    "uni.trace.freqVecUU"
   ]
  },
  {
   "cell_type": "code",
   "execution_count": 47,
   "metadata": {},
   "outputs": [],
   "source": [
    "mMax, n, ftr = 1e2, 1e5, 'rd' \n",
    "strm = Stream(mMax, n, ftr)\n",
    "strm.run()"
   ]
  },
  {
   "cell_type": "code",
   "execution_count": 58,
   "metadata": {},
   "outputs": [],
   "source": [
    "strm"
   ]
  },
  {
   "cell_type": "code",
   "execution_count": 67,
   "metadata": {},
   "outputs": [],
   "source": [
    "uni"
   ]
  },
  {
   "cell_type": "code",
   "execution_count": 11,
   "metadata": {},
   "outputs": [
    {
     "data": {
      "text/plain": [
       "1589.007"
      ]
     },
     "execution_count": 11,
     "metadata": {},
     "output_type": "execute_result"
    }
   ],
   "source": [
    "uni.trace.normEx"
   ]
  },
  {
   "cell_type": "code",
   "execution_count": 12,
   "metadata": {},
   "outputs": [
    {
     "data": {
      "text/plain": [
       "array([3.40012e+03, 1.14000e+00, 0.00000e+00])"
      ]
     },
     "execution_count": 12,
     "metadata": {},
     "output_type": "execute_result"
    }
   ],
   "source": [
    "uni.trace.US3"
   ]
  },
  {
   "cell_type": "code",
   "execution_count": 13,
   "metadata": {},
   "outputs": [
    {
     "data": {
      "text/plain": [
       "array([391.7 ,   0.75,   0.  ])"
      ]
     },
     "execution_count": 13,
     "metadata": {},
     "output_type": "execute_result"
    }
   ],
   "source": [
    "uni.trace.UU3"
   ]
  },
  {
   "cell_type": "code",
   "execution_count": 17,
   "metadata": {},
   "outputs": [],
   "source": [
    "a = uni.trace.freqVecUU"
   ]
  },
  {
   "cell_type": "code",
   "execution_count": null,
   "metadata": {},
   "outputs": [],
   "source": [
    "a"
   ]
>>>>>>> 8e8331afff0bb423cea2906d4cfec613c93a0fb3
  }
 ],
 "metadata": {
  "kernelspec": {
   "display_name": "Python 3.8.2 64-bit ('ptorch': conda)",
   "language": "python",
   "name": "python38264bitptorchconda526be3fe34db4c6e9ce522e086b57990"
  },
  "language_info": {
   "codemirror_mode": {
    "name": "ipython",
    "version": 3
   },
   "file_extension": ".py",
   "mimetype": "text/x-python",
   "name": "python",
   "nbconvert_exporter": "python",
   "pygments_lexer": "ipython3",
   "version": "3.8.2"
  }
 },
 "nbformat": 4,
 "nbformat_minor": 4
}
