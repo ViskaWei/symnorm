{
 "cells": [
  {
   "cell_type": "code",
<<<<<<< HEAD
   "execution_count": 16,
=======
   "execution_count": 13,
>>>>>>> 8e8331afff0bb423cea2906d4cfec613c93a0fb3
   "metadata": {},
   "outputs": [],
   "source": [
    "import os\n",
    "import sys\n",
    "import numpy as np\n",
    "import copy\n",
<<<<<<< HEAD
    "from collections import Counter\n",
=======
>>>>>>> 8e8331afff0bb423cea2906d4cfec613c93a0fb3
    "import matplotlib.pyplot as plt"
   ]
  },
  {
   "cell_type": "code",
   "execution_count": 2,
   "metadata": {},
   "outputs": [],
   "source": [
    "sys.path.insert(0, '..')"
   ]
  },
  {
   "cell_type": "code",
   "execution_count": 3,
   "metadata": {},
   "outputs": [],
   "source": [
    "%load_ext autoreload\n",
    "%autoreload 2"
   ]
  },
  {
   "cell_type": "code",
<<<<<<< HEAD
   "execution_count": 4,
=======
   "execution_count": 6,
>>>>>>> 8e8331afff0bb423cea2906d4cfec613c93a0fb3
   "metadata": {},
   "outputs": [],
   "source": [
    "from symnorm.dataset.stream import Stream, StreamTrace"
   ]
  },
  {
   "cell_type": "markdown",
   "metadata": {},
   "source": [
    "### Test Stream"
   ]
  },
  {
   "cell_type": "code",
<<<<<<< HEAD
   "execution_count": 8,
=======
   "execution_count": 24,
>>>>>>> 8e8331afff0bb423cea2906d4cfec613c93a0fb3
   "metadata": {},
   "outputs": [],
   "source": [
    "trace = StreamTrace()\n",
<<<<<<< HEAD
    "mMax = 3270\n",
=======
    "mMax = 100\n",
>>>>>>> 8e8331afff0bb423cea2906d4cfec613c93a0fb3
    "n = None\n",
    "ftr = 'tst'\n",
    "strm = Stream(mMax, n, ftr, trace)\n",
    "strm.run()"
   ]
  },
  {
   "cell_type": "code",
<<<<<<< HEAD
   "execution_count": 9,
=======
   "execution_count": 39,
>>>>>>> 8e8331afff0bb423cea2906d4cfec613c93a0fb3
   "metadata": {},
   "outputs": [
    {
     "data": {
<<<<<<< HEAD
      "image/png": "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\n",
=======
      "image/png": "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\n",
>>>>>>> 8e8331afff0bb423cea2906d4cfec613c93a0fb3
      "text/plain": [
       "<Figure size 864x144 with 1 Axes>"
      ]
     },
     "metadata": {
      "needs_background": "light"
     },
     "output_type": "display_data"
    }
   ],
   "source": [
    "f, ax = plt.subplots(1, figsize=(12,2))\n",
    "_ = ax.hist(strm.coord, bins=strm.n//10, color='r')\n",
    "_ = f.suptitle(f'FreqList for mMax = {strm.mMax} | n = {strm.n} | ftr = {strm.ftr}')"
   ]
  },
  {
   "cell_type": "markdown",
   "metadata": {},
   "source": [
    "### Random stream"
   ]
  },
  {
   "cell_type": "code",
<<<<<<< HEAD
   "execution_count": 13,
=======
   "execution_count": 43,
>>>>>>> 8e8331afff0bb423cea2906d4cfec613c93a0fb3
   "metadata": {},
   "outputs": [],
   "source": [
    "trace = StreamTrace()\n",
    "mMax = 100\n",
    "n = None\n",
    "ftr = 'rd'\n",
<<<<<<< HEAD
    "strm = Stream(mMax, n, ftr, trace=trace)\n",
=======
    "strm = Stream(mMax, n, ftr, trace)\n",
>>>>>>> 8e8331afff0bb423cea2906d4cfec613c93a0fb3
    "strm.run()"
   ]
  },
  {
   "cell_type": "code",
<<<<<<< HEAD
   "execution_count": 17,
   "metadata": {},
   "outputs": [],
   "source": [
    "c = Counter(strm.coord)"
   ]
  },
  {
   "cell_type": "code",
   "execution_count": 21,
=======
   "execution_count": 44,
>>>>>>> 8e8331afff0bb423cea2906d4cfec613c93a0fb3
   "metadata": {},
   "outputs": [
    {
     "data": {
      "text/plain": [
<<<<<<< HEAD
       "dict_values([2, 2, 2, 2, 2, 2, 2, 2, 2, 2, 2, 2, 2, 2, 2, 2, 2, 2, 2, 2, 2, 2, 2, 2, 2, 1, 1, 1, 1, 1, 1, 1, 1, 1, 1, 1, 1, 1, 1, 1, 1, 1, 1, 1, 1, 1, 1, 1, 1, 1, 1, 1, 1, 1, 1, 1, 1, 1, 1, 1, 1, 1, 1, 1, 1, 1, 1, 1, 1, 1, 5])"
      ]
     },
     "execution_count": 21,
=======
       "array([  2,   3,   4,   5,   6,   7,   8,   9,  10,  11,  12,  13,  14,\n",
       "        15,  16,  17,  18,  19,  20,  21,  22,  23,  24,  25,  26,   2,\n",
       "         3,   4,   5,   6,   7,   8,   9,  10,  11,  12,  13,  14,  15,\n",
       "        16,  17,  18,  19,  20,  21,  22,  23,  24,  25,  26, 698, 409,\n",
       "       105,  80, 902, 248, 141, 397, 494, 431,  97, 782, 928, 807, 676,\n",
       "       906,  78, 184, 792, 486, 508, 903, 812, 115, 847, 608, 107, 450,\n",
       "       338, 265, 433, 529, 611, 772, 212, 134, 430, 341, 632, 977, 698,\n",
       "       584, 649, 627, 972,   1,   1,   1,   1,   1])"
      ]
     },
     "execution_count": 44,
>>>>>>> 8e8331afff0bb423cea2906d4cfec613c93a0fb3
     "metadata": {},
     "output_type": "execute_result"
    }
   ],
   "source": [
<<<<<<< HEAD
    "c.values()"
   ]
  },
  {
   "cell_type": "code",
   "execution_count": 22,
   "metadata": {},
   "outputs": [],
   "source": [
    "freqVec = list(c.values())"
   ]
  },
  {
   "cell_type": "code",
   "execution_count": 27,
   "metadata": {},
   "outputs": [
    {
     "data": {
      "text/plain": [
       "0.3834824944236852"
      ]
     },
     "execution_count": 27,
     "metadata": {},
     "output_type": "execute_result"
    }
   ],
   "source": [
    "5 / np.sqrt(np.sum(np.array(freqVec)**2))"
=======
    "strm.coord"
>>>>>>> 8e8331afff0bb423cea2906d4cfec613c93a0fb3
   ]
  },
  {
   "cell_type": "code",
   "execution_count": 45,
   "metadata": {},
   "outputs": [
    {
     "data": {
      "image/png": "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\n",
      "text/plain": [
       "<Figure size 864x144 with 1 Axes>"
      ]
     },
     "metadata": {
      "needs_background": "light"
     },
     "output_type": "display_data"
    }
   ],
   "source": [
    "f, ax = plt.subplots(1, figsize=(12,2))\n",
    "_ = ax.hist(strm.coord, bins=strm.n, color='r')\n",
    "_ = f.suptitle(f'FreqList for mMax = {strm.mMax} | n = {strm.n} | ftr = {strm.ftr}')"
   ]
  },
  {
   "cell_type": "markdown",
   "metadata": {},
   "source": [
    "### Source Stream"
   ]
  },
  {
   "cell_type": "code",
<<<<<<< HEAD
   "execution_count": 10,
=======
   "execution_count": 63,
>>>>>>> 8e8331afff0bb423cea2906d4cfec613c93a0fb3
   "metadata": {},
   "outputs": [],
   "source": [
    "trace = StreamTrace()\n",
    "mMax = 100\n",
    "n = None\n",
<<<<<<< HEAD
    "ftr = 'dst'\n",
=======
    "ftr = 'sport'\n",
>>>>>>> 8e8331afff0bb423cea2906d4cfec613c93a0fb3
    "strm = Stream(mMax, n, ftr, trace)\n",
    "strm.run()"
   ]
  },
  {
   "cell_type": "code",
<<<<<<< HEAD
   "execution_count": 11,
=======
   "execution_count": 64,
>>>>>>> 8e8331afff0bb423cea2906d4cfec613c93a0fb3
   "metadata": {},
   "outputs": [
    {
     "data": {
      "text/plain": [
<<<<<<< HEAD
       "(100,)"
      ]
     },
     "execution_count": 11,
=======
       "(769157,)"
      ]
     },
     "execution_count": 64,
>>>>>>> 8e8331afff0bb423cea2906d4cfec613c93a0fb3
     "metadata": {},
     "output_type": "execute_result"
    }
   ],
   "source": [
    "strm.coord.shape"
   ]
  },
  {
   "cell_type": "code",
<<<<<<< HEAD
   "execution_count": 7,
   "metadata": {},
   "outputs": [
    {
     "data": {
      "text/plain": [
       "19.5529185849815"
      ]
     },
     "execution_count": 7,
     "metadata": {},
     "output_type": "execute_result"
    }
   ],
   "source": [
    "np.log2(769157)"
   ]
  },
  {
   "cell_type": "code",
=======
>>>>>>> 8e8331afff0bb423cea2906d4cfec613c93a0fb3
   "execution_count": 54,
   "metadata": {},
   "outputs": [],
   "source": [
    "s = strm.coord"
   ]
  },
  {
   "cell_type": "code",
   "execution_count": 55,
   "metadata": {},
   "outputs": [
    {
     "data": {
      "text/plain": [
       "3758071669.0"
      ]
     },
     "execution_count": 55,
     "metadata": {},
     "output_type": "execute_result"
    }
   ],
   "source": [
    "np.max(s)"
   ]
  },
  {
   "cell_type": "code",
   "execution_count": 56,
   "metadata": {},
   "outputs": [
    {
     "data": {
      "text/plain": [
       "4294967296"
      ]
     },
     "execution_count": 56,
     "metadata": {},
     "output_type": "execute_result"
    }
   ],
   "source": [
    "2**32"
   ]
  },
  {
   "cell_type": "code",
   "execution_count": 53,
   "metadata": {},
   "outputs": [
    {
     "data": {
      "text/plain": [
       "array([1.49883318e+09, 8.79764318e+08, 8.69733164e+08, 5.17524874e+08,\n",
       "       3.28309414e+09, 2.08213367e+09, 2.68963430e+09, 8.69733164e+08,\n",
       "       2.84186736e+09, 1.44025521e+09])"
      ]
     },
     "execution_count": 53,
     "metadata": {},
     "output_type": "execute_result"
    }
   ],
   "source": [
    "strm.coord[:10]"
   ]
  },
  {
   "cell_type": "code",
   "execution_count": 71,
   "metadata": {},
   "outputs": [],
   "source": [
    "DATASET ='/home/swei20/SymNormSlidingWindows/test/data/packets/equinix-nyc.dirA.20190117-131558.UTC.anon.pcap'"
   ]
  },
  {
   "cell_type": "code",
   "execution_count": 2,
   "metadata": {},
   "outputs": [],
   "source": [
    "DATASET ='/home/swei20/SymNormSlidingWindows/data/testdata/test100.pcap'"
   ]
  },
  {
   "cell_type": "code",
   "execution_count": 29,
   "metadata": {},
   "outputs": [],
   "source": [
    "from scapy.all import *\n",
    "from ipaddress import IPv4Address as ipv4\n",
    "# import netaddr"
   ]
  },
  {
   "cell_type": "code",
   "execution_count": 5,
   "metadata": {},
   "outputs": [],
   "source": [
    "# p0=rdpcap(DATASET)"
   ]
  },
  {
   "cell_type": "code",
   "execution_count": 6,
   "metadata": {},
   "outputs": [],
   "source": [
    "a = PcapReader(DATASET)"
   ]
  },
  {
   "cell_type": "code",
   "execution_count": 50,
   "metadata": {},
   "outputs": [],
   "source": [
    "b='sport'"
   ]
  },
  {
   "cell_type": "code",
   "execution_count": 52,
   "metadata": {},
   "outputs": [
    {
     "data": {
      "text/plain": [
       "True"
      ]
     },
     "execution_count": 52,
     "metadata": {},
     "output_type": "execute_result"
    }
   ],
   "source": [
    "b[-4:]=='port'"
   ]
  },
  {
   "cell_type": "code",
   "execution_count": 8,
   "metadata": {},
   "outputs": [
    {
     "data": {
      "text/plain": [
       "<IP  version=4 ihl=5 tos=0x0 len=1480 id=39507 flags=DF frag=0 ttl=56 proto=tcp chksum=0xf5ed src=89.86.97.24 dst=143.110.99.18 |<TCP  sport=https dport=49584 seq=1245547307 ack=3706341937 dataofs=5 reserved=0 flags=PA window=254 chksum=0xf070 urgptr=0 |>>"
      ]
     },
     "execution_count": 8,
     "metadata": {},
     "output_type": "execute_result"
    }
   ],
   "source": [
    "aa"
   ]
  },
  {
   "cell_type": "code",
   "execution_count": 9,
   "metadata": {},
   "outputs": [],
   "source": [
    "def store_port(x, out):\n",
    "    out.append(x.dport)"
   ]
  },
  {
   "cell_type": "code",
   "execution_count": 45,
   "metadata": {},
   "outputs": [],
   "source": [
    "def store_len(x, out=None):\n",
    "    out.append(x.len)"
   ]
  },
  {
   "cell_type": "code",
   "execution_count": 32,
   "metadata": {},
   "outputs": [],
   "source": [
    "query = lambda x: out.append(int(ipv4(x.src)))"
   ]
  },
  {
   "cell_type": "code",
   "execution_count": 48,
   "metadata": {},
   "outputs": [],
   "source": [
    "name = ''"
   ]
  },
  {
   "cell_type": "code",
   "execution_count": 49,
   "metadata": {},
   "outputs": [
    {
     "data": {
      "text/plain": [
       "'rand'"
      ]
     },
     "execution_count": 49,
     "metadata": {},
     "output_type": "execute_result"
    }
   ],
   "source": [
    "'rand' + name"
   ]
  },
  {
   "cell_type": "code",
   "execution_count": 151,
   "metadata": {},
   "outputs": [],
   "source": [
    "def get_traffic_stream(NAME, DATASET, m = None, save=True):\n",
    "    out=[]\n",
    "    if NAME == 'src':\n",
    "        def store_src(x, out=out):\n",
    "            try: \n",
    "                out.append(int(ipv4(x.src)))\n",
    "            except:\n",
    "                pass\n",
    "        query = lambda x: store_src(x)\n",
    "    elif NAME == 'dst':\n",
    "        query = lambda x: out.append(int(ipv4(x.dst)))\n",
    "    elif NAME =='sport':\n",
    "        query = lambda x: out.append(x.sport)\n",
    "    elif NAME =='dport':\n",
    "        query = lambda x: out.append(x.dport)\n",
    "    elif NAME =='len':\n",
    "        query = lambda x: out.append(x.len)      \n",
    "    sniff(offline=DATASET, prn=query,count= m, store = 0)\n",
    "    print(m, out)\n",
    "    if save:\n",
    "        if (m <= 1000) and (m >=10 ):\n",
    "            np.savetxt(f'/home/swei20/SymNormSlidingWindows/test/data/stream/traffic_{NAME}_m{m}.txt', out)\n",
    "        elif (m >1000) or (m ==-1):\n",
    "            np.savetxt(f'/home/swei20/SymNormSlidingWindows/data/stream/traffic_{NAME}.txt', out)\n",
    "    return out"
   ]
  },
  {
   "cell_type": "code",
   "execution_count": null,
   "metadata": {},
   "outputs": [],
   "source": []
  },
  {
   "cell_type": "code",
   "execution_count": null,
   "metadata": {},
   "outputs": [],
   "source": [
    "sniff(filter = ,offline=DATASET, prn=query,count= m, store = 0)"
   ]
  },
  {
   "cell_type": "code",
   "execution_count": 153,
   "metadata": {},
   "outputs": [
    {
     "name": "stderr",
     "output_type": "stream",
     "text": [
      "IOPub data rate exceeded.\n",
      "The notebook server will temporarily stop sending output\n",
      "to the client in order to avoid crashing it.\n",
      "To change this limit, set the config variable\n",
      "`--NotebookApp.iopub_data_rate_limit`.\n",
      "\n",
      "Current values:\n",
      "NotebookApp.iopub_data_rate_limit=1000000.0 (bytes/sec)\n",
      "NotebookApp.rate_limit_window=3.0 (secs)\n",
      "\n"
     ]
    }
   ],
   "source": [
    "outfull = get_traffic_stream('src', DATASET, m=-1 ,save =1)"
   ]
  },
  {
   "cell_type": "code",
   "execution_count": 149,
   "metadata": {
    "scrolled": true
   },
   "outputs": [
    {
     "ename": "AddressValueError",
     "evalue": "Expected 4 octets in '2158:2601:ffed:11c::'",
     "output_type": "error",
     "traceback": [
      "\u001b[0;31m---------------------------------------------------------------------------\u001b[0m",
      "\u001b[0;31mAddressValueError\u001b[0m                         Traceback (most recent call last)",
      "\u001b[0;32m<ipython-input-149-c59f1e0122e6>\u001b[0m in \u001b[0;36m<module>\u001b[0;34m\u001b[0m\n\u001b[0;32m----> 1\u001b[0;31m \u001b[0mout2\u001b[0m\u001b[0;34m=\u001b[0m\u001b[0mget_traffic_stream\u001b[0m\u001b[0;34m(\u001b[0m\u001b[0;34m'src'\u001b[0m\u001b[0;34m,\u001b[0m \u001b[0mDATASET\u001b[0m\u001b[0;34m,\u001b[0m \u001b[0mm\u001b[0m\u001b[0;34m=\u001b[0m\u001b[0;34m-\u001b[0m\u001b[0;36m1\u001b[0m\u001b[0;34m)\u001b[0m\u001b[0;34m\u001b[0m\u001b[0;34m\u001b[0m\u001b[0m\n\u001b[0m",
      "\u001b[0;32m<ipython-input-87-b4ca84961cf3>\u001b[0m in \u001b[0;36mget_traffic_stream\u001b[0;34m(NAME, DATASET, m)\u001b[0m\n\u001b[1;32m     11\u001b[0m     \u001b[0;32melif\u001b[0m \u001b[0mNAME\u001b[0m \u001b[0;34m==\u001b[0m\u001b[0;34m'len'\u001b[0m\u001b[0;34m:\u001b[0m\u001b[0;34m\u001b[0m\u001b[0;34m\u001b[0m\u001b[0m\n\u001b[1;32m     12\u001b[0m         \u001b[0mquery\u001b[0m \u001b[0;34m=\u001b[0m \u001b[0;32mlambda\u001b[0m \u001b[0mx\u001b[0m\u001b[0;34m:\u001b[0m \u001b[0mout\u001b[0m\u001b[0;34m.\u001b[0m\u001b[0mappend\u001b[0m\u001b[0;34m(\u001b[0m\u001b[0mx\u001b[0m\u001b[0;34m.\u001b[0m\u001b[0mlen\u001b[0m\u001b[0;34m)\u001b[0m\u001b[0;34m\u001b[0m\u001b[0;34m\u001b[0m\u001b[0m\n\u001b[0;32m---> 13\u001b[0;31m     \u001b[0msniff\u001b[0m\u001b[0;34m(\u001b[0m\u001b[0moffline\u001b[0m\u001b[0;34m=\u001b[0m\u001b[0mDATASET\u001b[0m\u001b[0;34m,\u001b[0m \u001b[0mprn\u001b[0m\u001b[0;34m=\u001b[0m\u001b[0mquery\u001b[0m\u001b[0;34m,\u001b[0m\u001b[0mcount\u001b[0m\u001b[0;34m=\u001b[0m \u001b[0mm\u001b[0m\u001b[0;34m,\u001b[0m \u001b[0mstore\u001b[0m \u001b[0;34m=\u001b[0m \u001b[0;36m0\u001b[0m\u001b[0;34m)\u001b[0m\u001b[0;34m\u001b[0m\u001b[0;34m\u001b[0m\u001b[0m\n\u001b[0m\u001b[1;32m     14\u001b[0m     \u001b[0mprint\u001b[0m\u001b[0;34m(\u001b[0m\u001b[0mm\u001b[0m\u001b[0;34m,\u001b[0m \u001b[0mout\u001b[0m\u001b[0;34m)\u001b[0m\u001b[0;34m\u001b[0m\u001b[0;34m\u001b[0m\u001b[0m\n\u001b[1;32m     15\u001b[0m     \u001b[0;32mif\u001b[0m \u001b[0;34m(\u001b[0m\u001b[0mm\u001b[0m \u001b[0;34m<=\u001b[0m \u001b[0;36m1000\u001b[0m\u001b[0;34m)\u001b[0m \u001b[0;32mand\u001b[0m \u001b[0;34m(\u001b[0m\u001b[0mm\u001b[0m \u001b[0;34m>=\u001b[0m\u001b[0;36m10\u001b[0m \u001b[0;34m)\u001b[0m\u001b[0;34m:\u001b[0m\u001b[0;34m\u001b[0m\u001b[0;34m\u001b[0m\u001b[0m\n",
      "\u001b[0;32m~/.conda/envs/ptorch/lib/python3.8/site-packages/scapy/sendrecv.py\u001b[0m in \u001b[0;36msniff\u001b[0;34m(*args, **kwargs)\u001b[0m\n\u001b[1;32m   1034\u001b[0m \u001b[0;32mdef\u001b[0m \u001b[0msniff\u001b[0m\u001b[0;34m(\u001b[0m\u001b[0;34m*\u001b[0m\u001b[0margs\u001b[0m\u001b[0;34m,\u001b[0m \u001b[0;34m**\u001b[0m\u001b[0mkwargs\u001b[0m\u001b[0;34m)\u001b[0m\u001b[0;34m:\u001b[0m\u001b[0;34m\u001b[0m\u001b[0;34m\u001b[0m\u001b[0m\n\u001b[1;32m   1035\u001b[0m     \u001b[0msniffer\u001b[0m \u001b[0;34m=\u001b[0m \u001b[0mAsyncSniffer\u001b[0m\u001b[0;34m(\u001b[0m\u001b[0;34m)\u001b[0m\u001b[0;34m\u001b[0m\u001b[0;34m\u001b[0m\u001b[0m\n\u001b[0;32m-> 1036\u001b[0;31m     \u001b[0msniffer\u001b[0m\u001b[0;34m.\u001b[0m\u001b[0m_run\u001b[0m\u001b[0;34m(\u001b[0m\u001b[0;34m*\u001b[0m\u001b[0margs\u001b[0m\u001b[0;34m,\u001b[0m \u001b[0;34m**\u001b[0m\u001b[0mkwargs\u001b[0m\u001b[0;34m)\u001b[0m\u001b[0;34m\u001b[0m\u001b[0;34m\u001b[0m\u001b[0m\n\u001b[0m\u001b[1;32m   1037\u001b[0m     \u001b[0;32mreturn\u001b[0m \u001b[0msniffer\u001b[0m\u001b[0;34m.\u001b[0m\u001b[0mresults\u001b[0m\u001b[0;34m\u001b[0m\u001b[0;34m\u001b[0m\u001b[0m\n\u001b[1;32m   1038\u001b[0m \u001b[0;34m\u001b[0m\u001b[0m\n",
      "\u001b[0;32m~/.conda/envs/ptorch/lib/python3.8/site-packages/scapy/sendrecv.py\u001b[0m in \u001b[0;36m_run\u001b[0;34m(self, count, store, offline, quiet, prn, lfilter, L2socket, timeout, opened_socket, stop_filter, iface, started_callback, session, session_args, session_kwargs, *arg, **karg)\u001b[0m\n\u001b[1;32m    987\u001b[0m                     \u001b[0mp\u001b[0m\u001b[0;34m.\u001b[0m\u001b[0msniffed_on\u001b[0m \u001b[0;34m=\u001b[0m \u001b[0msniff_sockets\u001b[0m\u001b[0;34m[\u001b[0m\u001b[0ms\u001b[0m\u001b[0;34m]\u001b[0m\u001b[0;34m\u001b[0m\u001b[0;34m\u001b[0m\u001b[0m\n\u001b[1;32m    988\u001b[0m                     \u001b[0;31m# on_packet_received handles the prn/storage\u001b[0m\u001b[0;34m\u001b[0m\u001b[0;34m\u001b[0m\u001b[0;34m\u001b[0m\u001b[0m\n\u001b[0;32m--> 989\u001b[0;31m                     \u001b[0msession\u001b[0m\u001b[0;34m.\u001b[0m\u001b[0mon_packet_received\u001b[0m\u001b[0;34m(\u001b[0m\u001b[0mp\u001b[0m\u001b[0;34m)\u001b[0m\u001b[0;34m\u001b[0m\u001b[0;34m\u001b[0m\u001b[0m\n\u001b[0m\u001b[1;32m    990\u001b[0m                     \u001b[0;31m# check\u001b[0m\u001b[0;34m\u001b[0m\u001b[0;34m\u001b[0m\u001b[0;34m\u001b[0m\u001b[0m\n\u001b[1;32m    991\u001b[0m                     \u001b[0;32mif\u001b[0m \u001b[0;34m(\u001b[0m\u001b[0mstop_filter\u001b[0m \u001b[0;32mand\u001b[0m \u001b[0mstop_filter\u001b[0m\u001b[0;34m(\u001b[0m\u001b[0mp\u001b[0m\u001b[0;34m)\u001b[0m\u001b[0;34m)\u001b[0m \u001b[0;32mor\u001b[0m\u001b[0;31m \u001b[0m\u001b[0;31m\\\u001b[0m\u001b[0;34m\u001b[0m\u001b[0;34m\u001b[0m\u001b[0m\n",
      "\u001b[0;32m~/.conda/envs/ptorch/lib/python3.8/site-packages/scapy/sessions.py\u001b[0m in \u001b[0;36mon_packet_received\u001b[0;34m(self, pkt)\u001b[0m\n\u001b[1;32m     80\u001b[0m             \u001b[0mself\u001b[0m\u001b[0;34m.\u001b[0m\u001b[0mlst\u001b[0m\u001b[0;34m.\u001b[0m\u001b[0mappend\u001b[0m\u001b[0;34m(\u001b[0m\u001b[0mpkt\u001b[0m\u001b[0;34m)\u001b[0m\u001b[0;34m\u001b[0m\u001b[0;34m\u001b[0m\u001b[0m\n\u001b[1;32m     81\u001b[0m         \u001b[0;32mif\u001b[0m \u001b[0mself\u001b[0m\u001b[0;34m.\u001b[0m\u001b[0mprn\u001b[0m\u001b[0;34m:\u001b[0m\u001b[0;34m\u001b[0m\u001b[0;34m\u001b[0m\u001b[0m\n\u001b[0;32m---> 82\u001b[0;31m             \u001b[0mresult\u001b[0m \u001b[0;34m=\u001b[0m \u001b[0mself\u001b[0m\u001b[0;34m.\u001b[0m\u001b[0mprn\u001b[0m\u001b[0;34m(\u001b[0m\u001b[0mpkt\u001b[0m\u001b[0;34m)\u001b[0m\u001b[0;34m\u001b[0m\u001b[0;34m\u001b[0m\u001b[0m\n\u001b[0m\u001b[1;32m     83\u001b[0m             \u001b[0;32mif\u001b[0m \u001b[0mresult\u001b[0m \u001b[0;32mis\u001b[0m \u001b[0;32mnot\u001b[0m \u001b[0;32mNone\u001b[0m\u001b[0;34m:\u001b[0m\u001b[0;34m\u001b[0m\u001b[0;34m\u001b[0m\u001b[0m\n\u001b[1;32m     84\u001b[0m                 \u001b[0mprint\u001b[0m\u001b[0;34m(\u001b[0m\u001b[0mresult\u001b[0m\u001b[0;34m)\u001b[0m\u001b[0;34m\u001b[0m\u001b[0;34m\u001b[0m\u001b[0m\n",
      "\u001b[0;32m<ipython-input-87-b4ca84961cf3>\u001b[0m in \u001b[0;36m<lambda>\u001b[0;34m(x)\u001b[0m\n\u001b[1;32m      2\u001b[0m     \u001b[0mout\u001b[0m\u001b[0;34m=\u001b[0m\u001b[0;34m[\u001b[0m\u001b[0;34m]\u001b[0m\u001b[0;34m\u001b[0m\u001b[0;34m\u001b[0m\u001b[0m\n\u001b[1;32m      3\u001b[0m     \u001b[0;32mif\u001b[0m \u001b[0mNAME\u001b[0m \u001b[0;34m==\u001b[0m \u001b[0;34m'src'\u001b[0m\u001b[0;34m:\u001b[0m\u001b[0;34m\u001b[0m\u001b[0;34m\u001b[0m\u001b[0m\n\u001b[0;32m----> 4\u001b[0;31m         \u001b[0mquery\u001b[0m \u001b[0;34m=\u001b[0m \u001b[0;32mlambda\u001b[0m \u001b[0mx\u001b[0m\u001b[0;34m:\u001b[0m \u001b[0mout\u001b[0m\u001b[0;34m.\u001b[0m\u001b[0mappend\u001b[0m\u001b[0;34m(\u001b[0m\u001b[0mint\u001b[0m\u001b[0;34m(\u001b[0m\u001b[0mipv4\u001b[0m\u001b[0;34m(\u001b[0m\u001b[0mx\u001b[0m\u001b[0;34m.\u001b[0m\u001b[0msrc\u001b[0m\u001b[0;34m)\u001b[0m\u001b[0;34m)\u001b[0m\u001b[0;34m)\u001b[0m\u001b[0;34m\u001b[0m\u001b[0;34m\u001b[0m\u001b[0m\n\u001b[0m\u001b[1;32m      5\u001b[0m     \u001b[0;32melif\u001b[0m \u001b[0mNAME\u001b[0m \u001b[0;34m==\u001b[0m \u001b[0;34m'dst'\u001b[0m\u001b[0;34m:\u001b[0m\u001b[0;34m\u001b[0m\u001b[0;34m\u001b[0m\u001b[0m\n\u001b[1;32m      6\u001b[0m         \u001b[0mquery\u001b[0m \u001b[0;34m=\u001b[0m \u001b[0;32mlambda\u001b[0m \u001b[0mx\u001b[0m\u001b[0;34m:\u001b[0m \u001b[0mout\u001b[0m\u001b[0;34m.\u001b[0m\u001b[0mappend\u001b[0m\u001b[0;34m(\u001b[0m\u001b[0mint\u001b[0m\u001b[0;34m(\u001b[0m\u001b[0mipv4\u001b[0m\u001b[0;34m(\u001b[0m\u001b[0mx\u001b[0m\u001b[0;34m.\u001b[0m\u001b[0mdst\u001b[0m\u001b[0;34m)\u001b[0m\u001b[0;34m)\u001b[0m\u001b[0;34m)\u001b[0m\u001b[0;34m\u001b[0m\u001b[0;34m\u001b[0m\u001b[0m\n",
      "\u001b[0;32m~/.conda/envs/ptorch/lib/python3.8/ipaddress.py\u001b[0m in \u001b[0;36m__init__\u001b[0;34m(self, address)\u001b[0m\n\u001b[1;32m   1250\u001b[0m         \u001b[0;32mif\u001b[0m \u001b[0;34m'/'\u001b[0m \u001b[0;32min\u001b[0m \u001b[0maddr_str\u001b[0m\u001b[0;34m:\u001b[0m\u001b[0;34m\u001b[0m\u001b[0;34m\u001b[0m\u001b[0m\n\u001b[1;32m   1251\u001b[0m             \u001b[0;32mraise\u001b[0m \u001b[0mAddressValueError\u001b[0m\u001b[0;34m(\u001b[0m\u001b[0;34m\"Unexpected '/' in %r\"\u001b[0m \u001b[0;34m%\u001b[0m \u001b[0maddress\u001b[0m\u001b[0;34m)\u001b[0m\u001b[0;34m\u001b[0m\u001b[0;34m\u001b[0m\u001b[0m\n\u001b[0;32m-> 1252\u001b[0;31m         \u001b[0mself\u001b[0m\u001b[0;34m.\u001b[0m\u001b[0m_ip\u001b[0m \u001b[0;34m=\u001b[0m \u001b[0mself\u001b[0m\u001b[0;34m.\u001b[0m\u001b[0m_ip_int_from_string\u001b[0m\u001b[0;34m(\u001b[0m\u001b[0maddr_str\u001b[0m\u001b[0;34m)\u001b[0m\u001b[0;34m\u001b[0m\u001b[0;34m\u001b[0m\u001b[0m\n\u001b[0m\u001b[1;32m   1253\u001b[0m \u001b[0;34m\u001b[0m\u001b[0m\n\u001b[1;32m   1254\u001b[0m     \u001b[0;34m@\u001b[0m\u001b[0mproperty\u001b[0m\u001b[0;34m\u001b[0m\u001b[0;34m\u001b[0m\u001b[0m\n",
      "\u001b[0;32m~/.conda/envs/ptorch/lib/python3.8/ipaddress.py\u001b[0m in \u001b[0;36m_ip_int_from_string\u001b[0;34m(cls, ip_str)\u001b[0m\n\u001b[1;32m   1142\u001b[0m         \u001b[0moctets\u001b[0m \u001b[0;34m=\u001b[0m \u001b[0mip_str\u001b[0m\u001b[0;34m.\u001b[0m\u001b[0msplit\u001b[0m\u001b[0;34m(\u001b[0m\u001b[0;34m'.'\u001b[0m\u001b[0;34m)\u001b[0m\u001b[0;34m\u001b[0m\u001b[0;34m\u001b[0m\u001b[0m\n\u001b[1;32m   1143\u001b[0m         \u001b[0;32mif\u001b[0m \u001b[0mlen\u001b[0m\u001b[0;34m(\u001b[0m\u001b[0moctets\u001b[0m\u001b[0;34m)\u001b[0m \u001b[0;34m!=\u001b[0m \u001b[0;36m4\u001b[0m\u001b[0;34m:\u001b[0m\u001b[0;34m\u001b[0m\u001b[0;34m\u001b[0m\u001b[0m\n\u001b[0;32m-> 1144\u001b[0;31m             \u001b[0;32mraise\u001b[0m \u001b[0mAddressValueError\u001b[0m\u001b[0;34m(\u001b[0m\u001b[0;34m\"Expected 4 octets in %r\"\u001b[0m \u001b[0;34m%\u001b[0m \u001b[0mip_str\u001b[0m\u001b[0;34m)\u001b[0m\u001b[0;34m\u001b[0m\u001b[0;34m\u001b[0m\u001b[0m\n\u001b[0m\u001b[1;32m   1145\u001b[0m \u001b[0;34m\u001b[0m\u001b[0m\n\u001b[1;32m   1146\u001b[0m         \u001b[0;32mtry\u001b[0m\u001b[0;34m:\u001b[0m\u001b[0;34m\u001b[0m\u001b[0;34m\u001b[0m\u001b[0m\n",
      "\u001b[0;31mAddressValueError\u001b[0m: Expected 4 octets in '2158:2601:ffed:11c::'"
     ]
    }
   ],
   "source": [
    "out2=get_traffic_stream('src', DATASET, m=10)"
   ]
  },
  {
   "cell_type": "code",
   "execution_count": 146,
   "metadata": {},
   "outputs": [],
   "source": [
    "out22=np.loadtxt('/home/swei20/SymNormSlidingWindows/test/data/stream/traffic_src_m100.txt')"
   ]
  },
  {
   "cell_type": "code",
   "execution_count": 91,
   "metadata": {},
   "outputs": [],
   "source": [
    "# out2"
   ]
  },
  {
   "cell_type": "code",
   "execution_count": 94,
   "metadata": {},
   "outputs": [],
   "source": [
    "from collections import Counter"
   ]
  },
  {
   "cell_type": "code",
   "execution_count": 147,
   "metadata": {},
   "outputs": [],
   "source": [
    "c = Counter(out22)"
   ]
  },
  {
   "cell_type": "code",
   "execution_count": 148,
   "metadata": {},
   "outputs": [
    {
     "data": {
      "text/plain": [
       "dict_values([1, 1, 2, 2, 1, 1, 1, 1, 1, 1, 1, 4, 3, 1, 1, 8, 1, 1, 1, 1, 3, 1, 2, 1, 1, 1, 7, 4, 2, 1, 1, 1, 1, 2, 4, 1, 1, 1, 1, 2, 2, 2, 1, 1, 1, 1, 1, 1, 1, 1, 1, 2, 1, 2, 1, 1, 2, 1, 1, 1, 1, 1, 1])"
      ]
     },
     "execution_count": 148,
     "metadata": {},
     "output_type": "execute_result"
    }
   ],
   "source": [
    "c.values()"
   ]
  },
  {
   "cell_type": "code",
   "execution_count": 80,
   "metadata": {
    "collapsed": true,
    "jupyter": {
     "outputs_hidden": true
    }
   },
   "outputs": [
    {
     "name": "stderr",
     "output_type": "stream",
     "text": [
      "IOPub data rate exceeded.\n",
      "The notebook server will temporarily stop sending output\n",
      "to the client in order to avoid crashing it.\n",
      "To change this limit, set the config variable\n",
      "`--NotebookApp.iopub_data_rate_limit`.\n",
      "\n",
      "Current values:\n",
      "NotebookApp.iopub_data_rate_limit=1000000.0 (bytes/sec)\n",
      "NotebookApp.rate_limit_window=3.0 (secs)\n",
      "\n"
     ]
    }
   ],
   "source": [
    "out=get_traffic_stream('sport',DATASET, m=-1)"
   ]
  },
  {
   "cell_type": "code",
   "execution_count": 156,
   "metadata": {},
   "outputs": [
    {
     "data": {
      "text/plain": [
       "769157"
      ]
     },
     "execution_count": 156,
     "metadata": {},
     "output_type": "execute_result"
    }
   ],
   "source": [
    "len(out)"
   ]
  },
  {
   "cell_type": "code",
   "execution_count": null,
   "metadata": {},
   "outputs": [],
   "source": [
    "out"
   ]
  },
  {
   "cell_type": "code",
   "execution_count": 157,
   "metadata": {},
   "outputs": [],
   "source": [
    "stream = out"
   ]
  },
  {
   "cell_type": "code",
   "execution_count": 158,
   "metadata": {},
   "outputs": [],
   "source": [
    "aa = np.random.randint(-10,10,size=(4,5))"
   ]
  },
  {
   "cell_type": "code",
   "execution_count": 159,
   "metadata": {},
   "outputs": [],
   "source": [
    "streamTr = torch.tensor(aa)"
   ]
  },
  {
   "cell_type": "code",
   "execution_count": 160,
   "metadata": {},
   "outputs": [
    {
     "data": {
      "text/plain": [
       "tensor([[  1,  -7,  -7,  -9,   2],\n",
       "        [ -9,   5,   7,  -8, -10],\n",
       "        [  3,   2,   1,  -5,   0],\n",
       "        [  1,  -3,  -9,  -7,   4]])"
      ]
     },
     "execution_count": 160,
     "metadata": {},
     "output_type": "execute_result"
    }
   ],
   "source": [
    "streamTr"
   ]
  },
  {
   "cell_type": "code",
   "execution_count": 164,
   "metadata": {},
   "outputs": [],
   "source": [
    "k=2"
   ]
  },
  {
   "cell_type": "code",
   "execution_count": 174,
   "metadata": {},
   "outputs": [],
   "source": [
    "bb=torch.sort(abs(streamTr), dim = 1, descending=True)[0][:,:k]"
   ]
  },
  {
   "cell_type": "code",
   "execution_count": 178,
   "metadata": {},
   "outputs": [
    {
     "data": {
      "text/plain": [
       "tensor([16, 19,  8, 16])"
      ]
     },
     "execution_count": 178,
     "metadata": {},
     "output_type": "execute_result"
    }
   ],
   "source": [
    "torch.sum(bb, dim=1)"
   ]
  },
  {
   "cell_type": "code",
   "execution_count": 177,
   "metadata": {},
   "outputs": [
    {
     "data": {
      "text/plain": [
       "tensor(14.7500)"
      ]
     },
     "execution_count": 177,
     "metadata": {},
     "output_type": "execute_result"
    }
   ],
   "source": [
    "torch.sum(bb, dim=1).float().mean()"
   ]
  },
  {
   "cell_type": "code",
   "execution_count": 4,
   "metadata": {},
   "outputs": [
    {
     "data": {
      "text/plain": [
       "array([95, 93, 93, 92, 92, 91, 90, 90, 89, 89, 89, 88, 88, 87, 87, 85, 84,\n",
       "       83, 82, 81, 80, 80, 78, 78, 76, 75, 75, 74, 73, 72, 72, 71, 64, 64,\n",
       "       63, 62, 62, 62, 62, 62, 61, 60, 60, 60, 60, 59, 58, 55, 54, 54, 53,\n",
       "       53, 53, 52, 51, 51, 50, 49, 48, 47, 47, 44, 44, 42, 40, 39, 38, 36,\n",
       "       35, 34, 33, 30, 26, 24, 24, 22, 22, 21, 21, 21, 18, 18, 15, 15, 15,\n",
       "       14, 14,  9,  8,  7,  6,  4,  4,  4,  3,  3,  2,  2,  2,  2])"
      ]
     },
     "execution_count": 4,
     "metadata": {},
     "output_type": "execute_result"
    }
   ],
   "source": [
    "np.sort(stream)[::-1]"
   ]
  },
  {
   "cell_type": "code",
   "execution_count": 5,
   "metadata": {},
   "outputs": [
    {
     "data": {
      "text/plain": [
       "(array([52, 93, 15, 72, 61, 21, 83, 87, 75, 75, 88, 24,  3, 22, 53,  2, 88,\n",
       "        30, 38,  2, 64, 60, 21, 33, 76, 58, 22, 89, 49, 91, 59, 42, 92, 60,\n",
       "        80, 15, 62, 62, 47, 62, 51, 55, 64,  3, 51,  7, 21, 73, 39, 18,  4,\n",
       "        89, 60, 14,  9, 90, 53,  2, 84, 92, 60, 71, 44,  8, 47, 35, 78, 81,\n",
       "        36, 50,  4,  2,  6, 54,  4, 54, 93, 63, 18, 90, 44, 34, 74, 62, 14,\n",
       "        95, 48, 15, 72, 78, 87, 62, 40, 85, 80, 82, 53, 24, 26, 89]),\n",
       " 583.0583161228386)"
      ]
     },
     "execution_count": 5,
     "metadata": {},
     "output_type": "execute_result"
    }
   ],
   "source": [
    "stream, exactL2"
   ]
  },
  {
   "cell_type": "code",
   "execution_count": 124,
   "metadata": {},
   "outputs": [],
   "source": [
    "c=2\n",
    "r=100\n",
    "d, k=None, None\n",
    "device='cuda'\n",
    "streamTr=torch.tensor(stream, dtype=torch.int64)\n",
    "item=streamTr[2]\n",
    "streamTr0=streamTr[:10]"
   ]
  },
  {
   "cell_type": "code",
   "execution_count": 123,
   "metadata": {},
   "outputs": [
    {
     "name": "stdout",
     "output_type": "stream",
     "text": [
      "tensor([7.0583], device='cuda:0')\n",
      "tensor([10.3368,  7.0679], device='cuda:0')\n",
      "tensor([12.3282,  7.0583], device='cuda:0')\n",
      "tensor([13.9998,  7.0679], device='cuda:0')\n",
      "tensor([15.2962,  9.9995,  7.0707], device='cuda:0')\n",
      "tensor([16.5551, 10.0990,  7.0707], device='cuda:0')\n",
      "tensor([17.9938,  9.8990,  7.0707], device='cuda:0')\n",
      "tensor([18.6862,  9.5894,  7.0707], device='cuda:0')\n",
      "tensor([19.4651,  9.8949,  7.0679], device='cuda:0')\n",
      "tensor([22.5514, 14.1358,  7.0679], device='cuda:0')\n",
      "tensor([23.4135, 15.4092,  9.6816,  7.0679], device='cuda:0')\n",
      "tensor([24.8781, 12.7124, 10.2395,  7.0654], device='cuda:0')\n",
      "tensor([25.4337, 14.6603, 12.5698,  7.0536], device='cuda:0')\n",
      "tensor([26.5432, 13.6746,  9.3754,  7.0679], device='cuda:0')\n",
      "tensor([28.2356, 16.2268, 12.1611,  7.0353], device='cuda:0')\n",
      "tensor([28.2168, 17.9357, 14.0340,  7.0622], device='cuda:0')\n",
      "tensor([31.0121, 16.3697, 10.2791,  7.0679], device='cuda:0')\n",
      "tensor([31.5767, 17.4596, 12.2045,  7.0622], device='cuda:0')\n",
      "tensor([31.7520, 18.6546, 13.6589,  7.0353], device='cuda:0')\n",
      "tensor([33.0886, 18.0278,  9.5302,  7.0622], device='cuda:0')\n",
      "tensor([33.2079, 18.8400, 11.8018,  7.0622], device='cuda:0')\n",
      "tensor([33.6667, 19.7296, 13.9377,  7.0622], device='cuda:0')\n",
      "tensor([34.9392, 20.5113, 15.9295, 10.2791,  7.0707], device='cuda:0')\n",
      "tensor([36.1814, 21.6787, 17.7479, 10.2883,  7.0679], device='cuda:0')\n",
      "tensor([37.0076, 18.9671, 12.0419,  7.0697], device='cuda:0')\n",
      "tensor([38.1802, 20.5329, 13.8898,  7.0707], device='cuda:0')\n",
      "tensor([40.2225, 22.3089, 16.3021, 10.2956,  7.0679], device='cuda:0')\n",
      "tensor([40.2958, 22.9277, 17.3954,  9.8912,  7.0707], device='cuda:0')\n",
      "tensor([41.2268, 23.7428, 18.8533, 10.0990,  7.0707], device='cuda:0')\n",
      "tensor([41.5567, 24.8789, 20.0992, 10.1484,  7.0711], device='cuda:0')\n",
      "tensor([42.0677, 21.1168, 12.0813,  7.0697], device='cuda:0')\n",
      "tensor([43.0812, 22.2906, 13.5615,  7.0707], device='cuda:0')\n",
      "tensor([44.5867, 24.2049, 15.8094, 10.5352,  7.0654], device='cuda:0')\n",
      "tensor([46.5415, 26.2295, 18.3029, 10.5339,  7.0622], device='cuda:0')\n",
      "tensor([47.1925, 28.0000, 20.1494, 12.5688,  9.6866,  7.0679], device='cuda:0')\n",
      "tensor([48.8978, 28.9615, 21.3040, 11.6616,  9.4286,  7.0583], device='cuda:0')\n",
      "tensor([49.0254, 29.5995, 22.6301, 12.0813, 10.1976,  7.0583], device='cuda:0')\n",
      "tensor([50.1589, 25.8576, 17.4054, 14.1166,  7.0583], device='cuda:0')\n",
      "tensor([50.7345, 27.2548, 19.1200, 10.1676,  7.0711], device='cuda:0')\n",
      "tensor([52.8158, 31.6425, 25.0112, 16.0034, 10.1676,  7.0583], device='cuda:0')\n",
      "tensor([52.8718, 31.3726, 25.2552, 16.7305, 11.6616,  7.0583], device='cuda:0')\n",
      "tensor([53.5050, 32.5314, 26.6441, 13.8186, 10.3436,  7.0707], device='cuda:0')\n",
      "tensor([54.1849, 32.7325, 26.7955, 14.6955, 12.4877,  7.0622], device='cuda:0')\n",
      "tensor([54.3966, 27.2027, 15.8430,  9.5774,  7.0536], device='cuda:0')\n",
      "tensor([55.4437, 29.3162, 19.7854, 11.9988,  9.8483,  7.0583], device='cuda:0')\n",
      "tensor([56.1772, 30.9603, 21.7708, 12.3071, 10.3441,  7.0707], device='cuda:0')\n",
      "tensor([57.8342, 31.2087, 23.1084, 12.7036,  9.5637,  7.0707], device='cuda:0')\n",
      "tensor([58.2681, 32.0968, 24.3838, 12.2833, 10.2465,  7.0711], device='cuda:0')\n",
      "tensor([59.0316, 32.2628, 24.7803, 12.8062, 10.2938,  7.0711], device='cuda:0')\n",
      "tensor([59.4576, 33.0626, 25.8541, 14.2767, 12.5667,  7.0679], device='cuda:0')\n",
      "tensor([60.1878, 33.8156, 26.6519, 14.5588,  9.8809,  7.0622], device='cuda:0')\n",
      "tensor([61.3756, 35.1965, 27.5815, 16.5527, 12.3234,  7.0707], device='cuda:0')\n",
      "tensor([63.5451, 35.7499, 28.2956, 14.6944,  9.8662,  7.0622], device='cuda:0')\n",
      "tensor([63.9665, 36.9078, 29.3336, 16.3689, 11.7883,  7.0483], device='cuda:0')\n",
      "tensor([64.1865, 37.2049, 29.9284, 18.1814, 13.9576,  7.0707], device='cuda:0')\n",
      "tensor([64.4013, 37.6265, 30.6754, 15.8060, 10.3436,  7.0711], device='cuda:0')\n",
      "tensor([65.9079, 38.0950, 31.1084, 17.2239, 12.1403,  7.0353], device='cuda:0')\n",
      "tensor([66.8492, 38.1550, 31.5986, 18.1023, 13.9883,  7.0622], device='cuda:0')\n",
      "tensor([66.3773, 37.8388, 31.1870, 15.6761, 10.1098,  7.0583], device='cuda:0')\n",
      "tensor([68.4886, 39.0380, 32.3873, 17.5440, 12.7799,  7.0654], device='cuda:0')\n",
      "tensor([71.2032, 40.8912, 34.6245, 19.2781, 14.7385, 10.5339,  7.0622],\n",
      "       device='cuda:0')\n",
      "tensor([72.2147, 41.9848, 35.6516, 20.4300, 16.2968, 10.2841,  7.0536],\n",
      "       device='cuda:0')\n",
      "tensor([72.5370, 42.4319, 36.0194, 21.2379, 17.4332,  9.9995,  7.0622],\n",
      "       device='cuda:0')\n",
      "tensor([73.0775, 36.9656, 22.5132, 12.6416, 10.2956,  7.0536], device='cuda:0')\n",
      "tensor([73.9324, 38.5151, 22.8367, 11.8273, 10.0321,  7.0711], device='cuda:0')\n",
      "tensor([74.0900, 38.8930, 23.3497, 11.7765,  9.7717,  7.0192], device='cuda:0')\n",
      "tensor([75.4969, 40.9006, 25.3201, 14.3262, 12.5445,  7.0654], device='cuda:0')\n",
      "tensor([76.1269, 41.5690, 26.1023, 14.8476, 10.2451,  7.0679], device='cuda:0')\n",
      "tensor([76.7483, 43.0478, 27.9242, 17.2586, 13.3416,  7.0711], device='cuda:0')\n",
      "tensor([76.5003, 42.5240, 28.7642, 14.9232,  9.7119,  7.0622], device='cuda:0')\n",
      "tensor([78.0201, 44.6833, 30.1014, 16.1501, 11.7722,  7.0622], device='cuda:0')\n",
      "tensor([79.7023, 46.5591, 33.0759, 18.5296, 14.7253, 10.2791,  7.0622],\n",
      "       device='cuda:0')\n",
      "tensor([80.3857, 47.2175, 34.2209, 19.5935, 16.7330, 10.1446,  7.0654],\n",
      "       device='cuda:0')\n",
      "tensor([80.3290, 47.1443, 34.6621, 18.1006, 12.6452,  7.0536], device='cuda:0')\n",
      "tensor([82.3763, 50.0905, 37.1179, 21.7153, 14.4142,  9.6904,  7.0622],\n",
      "       device='cuda:0')\n",
      "tensor([82.8914, 50.9536, 38.7161, 24.7659, 18.9613,  9.6904,  7.0536],\n",
      "       device='cuda:0')\n",
      "tensor([83.7951, 51.0062, 39.0121, 24.9481, 19.2907, 11.4884,  9.4774,  7.0679],\n",
      "       device='cuda:0')\n",
      "tensor([83.8654, 51.3012, 39.4968, 20.0979, 13.3039,  7.0711], device='cuda:0')\n",
      "tensor([84.6894, 52.6914, 39.8999, 21.1161, 14.5822,  9.7026,  7.0679],\n",
      "       device='cuda:0')\n",
      "tensor([85.3766, 53.9259, 41.6674, 22.5290, 16.2532,  9.7419,  7.0711],\n",
      "       device='cuda:0')\n",
      "tensor([86.1741, 43.0969, 23.2216, 17.2488, 11.1893,  7.0622], device='cuda:0')\n",
      "tensor([86.2236, 43.6644, 24.6992, 13.0500, 10.3218,  7.0697], device='cuda:0')\n",
      "tensor([85.5644, 43.6245, 25.0108, 14.1368, 12.3968,  7.0707], device='cuda:0')\n",
      "tensor([87.5470, 44.7942, 26.4158, 13.9998,  9.3175,  7.0583], device='cuda:0')\n",
      "tensor([88.0943, 44.6798, 27.3343, 15.8734, 12.1347,  7.0483], device='cuda:0')\n",
      "tensor([88.4903, 45.3222, 28.4190, 17.4925, 13.7446,  7.0697], device='cuda:0')\n",
      "tensor([88.7659, 46.0370, 29.3511, 15.6110,  9.8949,  7.0654], device='cuda:0')\n",
      "tensor([90.4763, 46.5912, 29.9554, 16.9996, 11.4679,  7.0583], device='cuda:0')\n",
      "tensor([91.0468, 46.6844, 30.8625, 18.3841, 12.9815,  7.0679], device='cuda:0')\n",
      "tensor([92.2652, 47.8630, 30.2849, 18.7055, 14.1144,  7.0654], device='cuda:0')\n",
      "tensor([92.8554, 48.1858, 30.2950, 16.1011, 10.4385,  7.0707], device='cuda:0')\n",
      "tensor([95.2075, 50.2490, 33.0143, 17.4347, 11.9145,  7.0583], device='cuda:0')\n",
      "tensor([95.7973, 50.7423, 33.9722, 19.3121, 14.0684,  7.0707], device='cuda:0')\n",
      "tensor([95.4114, 50.7057, 34.3373, 19.8962, 15.4785, 10.1316,  7.0697],\n",
      "       device='cuda:0')\n",
      "tensor([95.9508, 50.5916, 34.2809, 18.3568, 12.9606,  7.0679], device='cuda:0')\n",
      "tensor([96.9085, 51.8139, 35.8802, 20.0473, 14.5544, 10.0479,  7.0483],\n",
      "       device='cuda:0')\n",
      "tensor([98.4573, 53.2149, 36.7976, 21.0924, 16.4299, 10.2938,  7.0353],\n",
      "       device='cuda:0')\n",
      "tensor([99.6790, 54.2710, 38.2020, 22.8893, 18.4932,  9.8238,  7.0654],\n",
      "       device='cuda:0')\n",
      "tensor([99.2518, 53.7618, 37.6338, 19.3389, 11.7845,  7.0679], device='cuda:0')\n",
      "tensor([100.6223,  54.5115,  38.9238,  21.2124,  13.9641,   7.0707],\n",
      "       device='cuda:0')\n"
     ]
    },
    {
     "data": {
      "text/plain": [
       "tensor([100.6223,  54.5115,  38.9238,  21.2124,  13.9641,   7.0707],\n",
       "       device='cuda:0')"
      ]
     },
     "execution_count": 123,
     "metadata": {},
     "output_type": "execute_result"
    }
   ],
   "source": [
    "run(streamTr, c, r, device)"
   ]
  }
 ],
 "metadata": {
  "kernelspec": {
   "display_name": "Python 3.8.2 64-bit ('ptorch': conda)",
   "language": "python",
   "name": "python38264bitptorchconda526be3fe34db4c6e9ce522e086b57990"
  },
  "language_info": {
   "codemirror_mode": {
    "name": "ipython",
    "version": 3
   },
   "file_extension": ".py",
   "mimetype": "text/x-python",
   "name": "python",
   "nbconvert_exporter": "python",
   "pygments_lexer": "ipython3",
   "version": "3.8.2"
  }
 },
 "nbformat": 4,
 "nbformat_minor": 4
}
