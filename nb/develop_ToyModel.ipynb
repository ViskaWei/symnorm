{
 "cells": [
  {
   "cell_type": "code",
   "execution_count": 5,
   "metadata": {},
   "outputs": [],
   "source": [
    "import numpy as np\n",
    "import math\n",
    "import copy\n",
    "import torch\n",
    "LARGEPRIME = 2**61-1\n",
    "# torch.random.manual_seed(42)"
   ]
  },
  {
   "cell_type": "code",
   "execution_count": 1,
   "metadata": {},
   "outputs": [],
   "source": [
    "import logging"
   ]
  },
  {
   "cell_type": "code",
   "execution_count": 16,
   "metadata": {},
   "outputs": [],
   "source": [
    "def create_stream(n,m,w):\n",
    "    assert m > w\n",
    "    np.random.seed(42)\n",
    "    stream = np.random.randint(1,n+1,size=m)\n",
    "    exactL2w = None\n",
    "#     exactL2 = np.linalg.norm(stream, ord=2)\n",
    "#     exactL2w = np.linalg.norm(stream[-w:], ord=2)    \n",
    "#     logging.info('exact L2 of whole stream {:0.2f}'.format(exactL2))\n",
    "#     logging.info('exact L2 of last windowed stream {:0.2f}'.format(exactL2w))\n",
    "    return stream, exactL2w"
   ]
  },
  {
   "cell_type": "code",
   "execution_count": 20,
   "metadata": {},
   "outputs": [],
   "source": [
    "n, m , w =100, 201, 200\n",
    "stream, _ = create_stream(n,m,w)"
   ]
  },
  {
   "cell_type": "code",
   "execution_count": 31,
   "metadata": {},
   "outputs": [
    {
     "data": {
      "text/plain": [
       "2"
      ]
     },
     "execution_count": 31,
     "metadata": {},
     "output_type": "execute_result"
    }
   ],
   "source": [
    "int(np.log10(500))"
   ]
  },
  {
   "cell_type": "code",
   "execution_count": 10,
   "metadata": {},
   "outputs": [],
   "source": [
    "from collections import Counter"
   ]
  },
  {
   "cell_type": "code",
   "execution_count": 21,
   "metadata": {},
   "outputs": [],
   "source": [
    "c = Counter(stream)"
   ]
  },
  {
   "cell_type": "code",
   "execution_count": 26,
   "metadata": {},
   "outputs": [],
   "source": [
    "def get_freqList(stream):\n",
    "    c = Counter(stream)    \n",
    "    freqList=[]\n",
    "    for i in range(1, n+1):\n",
    "        freqList.append(c[i])\n",
    "    assert len(freqList) == n\n",
    "    return freqList"
   ]
  },
  {
   "cell_type": "code",
   "execution_count": 29,
   "metadata": {},
   "outputs": [],
   "source": [
    "from dataset import *"
   ]
  },
  {
   "cell_type": "code",
   "execution_count": null,
   "metadata": {},
   "outputs": [],
   "source": [
    "exactNorm = np.linalg.norm(freqList, ord=2)    \n"
   ]
  },
  {
   "cell_type": "code",
   "execution_count": 30,
   "metadata": {},
   "outputs": [
    {
     "data": {
      "text/plain": [
       "37.28270376461449"
      ]
     },
     "execution_count": 30,
     "metadata": {},
     "output_type": "execute_result"
    }
   ],
   "source": [
    "uniform_sampling(freqList, w, sRate=0.1)"
   ]
  },
  {
   "cell_type": "code",
   "execution_count": 27,
   "metadata": {},
   "outputs": [],
   "source": [
    "freqList = get_freqList(stream)"
   ]
  },
  {
   "cell_type": "code",
   "execution_count": 68,
   "metadata": {},
   "outputs": [],
   "source": [
    "def normFn(name):\n",
    "    \"\"\"\n",
    "    choose between 'L1', 'L2'...'Lp', 'Tk'\n",
    "    \"\"\"\n",
    "    if name[0] == 'L':\n",
    "        try: p = int(name[1:]) \n",
    "        except: raise 'enter # for p in Lp'\n",
    "        return lambda x: sum([abs(i)**p for i in x])**(1.0/p)\n",
    "    elif name[0] == 'T':\n",
    "        try: k = int(name[1:])\n",
    "        except: raise 'enter # for k in Tk'\n",
    "        return lambda x: sum(np.sort([abs(i) for i in x])[::-1][:k])"
   ]
  },
  {
   "cell_type": "code",
   "execution_count": 71,
   "metadata": {},
   "outputs": [],
   "source": [
    "aa = normFn('T10')"
   ]
  },
  {
   "cell_type": "code",
   "execution_count": 72,
   "metadata": {},
   "outputs": [
    {
     "data": {
      "text/plain": [
       "969"
      ]
     },
     "execution_count": 72,
     "metadata": {},
     "output_type": "execute_result"
    }
   ],
   "source": [
    "aa(stream)"
   ]
  },
  {
   "cell_type": "code",
   "execution_count": 75,
   "metadata": {},
   "outputs": [
    {
     "ename": "NameError",
     "evalue": "name 'norms' is not defined",
     "output_type": "error",
     "traceback": [
      "\u001b[0;31m---------------------------------------------------------------------------\u001b[0m",
      "\u001b[0;31mNameError\u001b[0m                                 Traceback (most recent call last)",
      "\u001b[0;32m<ipython-input-75-549d3896d200>\u001b[0m in \u001b[0;36m<module>\u001b[0;34m\u001b[0m\n\u001b[0;32m----> 1\u001b[0;31m \u001b[0mnorms\u001b[0m\u001b[0;34m\u001b[0m\u001b[0;34m\u001b[0m\u001b[0m\n\u001b[0m",
      "\u001b[0;31mNameError\u001b[0m: name 'norms' is not defined"
     ]
    }
   ],
   "source": [
    "norms"
   ]
  },
  {
   "cell_type": "code",
   "execution_count": null,
   "metadata": {},
   "outputs": [],
   "source": [
    "streamTr="
   ]
  },
  {
   "cell_type": "code",
   "execution_count": 74,
   "metadata": {},
   "outputs": [
    {
     "ename": "NameError",
     "evalue": "name 'streamTr' is not defined",
     "output_type": "error",
     "traceback": [
      "\u001b[0;31m---------------------------------------------------------------------------\u001b[0m",
      "\u001b[0;31mNameError\u001b[0m                                 Traceback (most recent call last)",
      "\u001b[0;32m<ipython-input-74-ec2a3a14bdc3>\u001b[0m in \u001b[0;36m<module>\u001b[0;34m\u001b[0m\n\u001b[0;32m----> 1\u001b[0;31m \u001b[0mtorch\u001b[0m\u001b[0;34m.\u001b[0m\u001b[0margsort\u001b[0m\u001b[0;34m(\u001b[0m\u001b[0mstreamTr\u001b[0m\u001b[0;34m)\u001b[0m\u001b[0;34m\u001b[0m\u001b[0;34m\u001b[0m\u001b[0m\n\u001b[0m",
      "\u001b[0;31mNameError\u001b[0m: name 'streamTr' is not defined"
     ]
    }
   ],
   "source": [
    "torch.argsort(streamTr)"
   ]
  },
  {
   "cell_type": "code",
   "execution_count": 133,
   "metadata": {},
   "outputs": [],
   "source": [
    "n, m , w =100, 1000, 250\n",
    "assert m > w\n",
    "np.random.seed(42)\n",
    "stream = np.random.randint(1,n,size=m)\n",
    "exactL2 = np.linalg.norm(stream, ord=2)\n",
    "exactL2w = np.linalg.norm(stream[-w:], ord=2)"
   ]
  },
  {
   "cell_type": "code",
   "execution_count": 134,
   "metadata": {},
   "outputs": [
    {
     "name": "stdout",
     "output_type": "stream",
     "text": [
      "exact L2 of whole stream 1820.19\n",
      "exact L2 of last windowed stream 916.59\n"
     ]
    }
   ],
   "source": [
    "print('exact L2 of whole stream {:0.2f}'.format(exactL2))\n",
    "print('exact L2 of last windowed stream {:0.2f}'.format(exactL2w))"
   ]
  },
  {
   "cell_type": "markdown",
   "metadata": {},
   "source": [
    "# uniform sample"
   ]
  },
  {
   "cell_type": "code",
   "execution_count": 136,
   "metadata": {},
   "outputs": [],
   "source": [
    "sRate = 0.1\n",
    "samples = np.random.choice(stream, size=int(w*sRate))\n",
    "samplesNorm = np.linalg.norm(samples, ord=2)\n",
    "uniformL2 = np.sqrt(samplesNorm**2 / sRate)"
   ]
  },
  {
   "cell_type": "code",
   "execution_count": 137,
   "metadata": {},
   "outputs": [
    {
     "name": "stdout",
     "output_type": "stream",
     "text": [
      "uniform L2 of 0.10 sampling rate: 941.34\n"
     ]
    }
   ],
   "source": [
    "print('uniform L2 of {:0.2f} sampling rate: {:0.2f}'.format(samplingRate, uniformL2))"
   ]
  },
  {
   "cell_type": "markdown",
   "metadata": {},
   "source": [
    "# Sketch Sampling"
   ]
  },
  {
   "cell_type": "code",
   "execution_count": 80,
   "metadata": {},
   "outputs": [],
   "source": [
    "from util import *"
   ]
  },
  {
   "cell_type": "code",
   "execution_count": 81,
   "metadata": {},
   "outputs": [],
   "source": [
    "c=100\n",
    "r=3\n",
    "d, k=None, None\n",
    "device='cuda'\n",
    "streamTr=torch.tensor(stream, dtype=torch.int64)\n",
    "item=streamTr[2]\n",
    "streamTr0=streamTr[:10]"
   ]
  },
  {
   "cell_type": "code",
   "execution_count": 87,
   "metadata": {},
   "outputs": [],
   "source": [
    "table = torch.rand(4,6)"
   ]
  },
  {
   "cell_type": "code",
   "execution_count": 88,
   "metadata": {},
   "outputs": [
    {
     "data": {
      "text/plain": [
       "tensor([[0.2033, 0.3602, 0.1523, 0.5134, 0.5653, 0.1703],\n",
       "        [0.6022, 0.3949, 0.9913, 0.2097, 0.7614, 0.1823],\n",
       "        [0.9457, 0.5329, 0.1083, 0.2407, 0.1977, 0.8877],\n",
       "        [0.9612, 0.6931, 0.6629, 0.9909, 0.2194, 0.0885]])"
      ]
     },
     "execution_count": 88,
     "metadata": {},
     "output_type": "execute_result"
    }
   ],
   "source": [
    "table"
   ]
  },
  {
   "cell_type": "code",
   "execution_count": 84,
   "metadata": {},
   "outputs": [],
   "source": [
    "p"
   ]
  },
  {
   "cell_type": "code",
   "execution_count": 85,
   "metadata": {},
   "outputs": [],
   "source": [
    "aaa = lambda x: torch.norm(x, p=p, dim=1, keepdim=False, out=None)"
   ]
  },
  {
   "cell_type": "code",
   "execution_count": 89,
   "metadata": {},
   "outputs": [
    {
     "data": {
      "text/plain": [
       "tensor([0.8980, 1.4690, 1.4405, 1.6976])"
      ]
     },
     "execution_count": 89,
     "metadata": {},
     "output_type": "execute_result"
    }
   ],
   "source": [
    "aaa(table)"
   ]
  },
  {
   "cell_type": "code",
   "execution_count": 78,
   "metadata": {},
   "outputs": [
    {
     "name": "stderr",
     "output_type": "stream",
     "text": [
      "ERROR:root:File `'(streamTr,.py'` not found.\n"
     ]
    }
   ],
   "source": [
    "run(streamTr, c,r,device)"
   ]
  },
  {
   "cell_type": "code",
   "execution_count": 79,
   "metadata": {},
   "outputs": [],
   "source": [
    "norms = [6898.5684, 4550.4961, 3416.7515, 2212.8689, 1666.8638, 1039.7496,\n",
    "         748.4566,  470.0509,  355.3170,  192.5131,  125.5543, 66.5305,\n",
    "          45.2503,   25.3738,   16.8966,    9.9995,    7.0583]"
   ]
  },
  {
   "cell_type": "code",
   "execution_count": 82,
   "metadata": {},
   "outputs": [],
   "source": [
    "def get_windowed_id(norms, w):\n",
    "    ids = np.array([])\n",
    "    for norm in norms:\n",
    "        ids  = np.append(ids, norm)\n",
    "    return ids"
   ]
  },
  {
   "cell_type": "code",
   "execution_count": 123,
   "metadata": {},
   "outputs": [],
   "source": [
    "aa = get_windowed_id(norms, w)"
   ]
  },
  {
   "cell_type": "code",
   "execution_count": 125,
   "metadata": {},
   "outputs": [
    {
     "data": {
      "text/plain": [
       "array([7, 8])"
      ]
     },
     "execution_count": 125,
     "metadata": {},
     "output_type": "execute_result"
    }
   ],
   "source": [
    "np.argsort(abs(aa- 475))[:2]"
   ]
  },
  {
   "cell_type": "code",
   "execution_count": 94,
   "metadata": {},
   "outputs": [
    {
     "data": {
      "text/plain": [
       "array([ 0,  1, -1,  2,  3,  4,  5,  6,  7,  8,  9, -2, -3, -4, -5, -6, -7])"
      ]
     },
     "execution_count": 94,
     "metadata": {},
     "output_type": "execute_result"
    }
   ],
   "source": [
    "aa-aa[0]"
   ]
  },
  {
   "cell_type": "code",
   "execution_count": 96,
   "metadata": {},
   "outputs": [
    {
     "data": {
      "text/plain": [
       "array([ 0,  1,  2,  3, 11,  4, 12,  5, 13,  6, 14,  7, 15,  8, 16,  9, 10])"
      ]
     },
     "execution_count": 96,
     "metadata": {},
     "output_type": "execute_result"
    }
   ],
   "source": [
    "np.argsort(abs(aa - aa[0]))"
   ]
  },
  {
   "cell_type": "code",
   "execution_count": 32,
   "metadata": {},
   "outputs": [],
   "source": [
    "def create_csv(c,r, device):\n",
    "    csv = CSNorm(c, r, device=device)\n",
    "    return csv"
   ]
  },
  {
   "cell_type": "code",
   "execution_count": 35,
   "metadata": {},
   "outputs": [],
   "source": [
    "def update_norm(csv, item):\n",
    "    csv.accumulateItem(item)\n",
    "    norm = csv.get_norm()\n",
    "    return norm"
   ]
  },
  {
   "cell_type": "code",
   "execution_count": 36,
   "metadata": {},
   "outputs": [],
   "source": [
    "def update_norms(csvs, c,r, device, item):\n",
    "    csv0 = create_csv(c,r,device)\n",
    "    csvs.append(csv0)\n",
    "    norms = torch.tensor([], device = device)\n",
    "    for csv in csvs:\n",
    "        norm = update_norm(csv, item)    \n",
    "        norms = torch.cat((norms, norm.view(1)), 0)        \n",
    "    return norms"
   ]
  },
  {
   "cell_type": "code",
   "execution_count": 37,
   "metadata": {},
   "outputs": [],
   "source": [
    "csvs = [csv]\n",
    "norms = update_norms(csvs,c,r, device,streamTr[2])"
   ]
  },
  {
   "cell_type": "code",
   "execution_count": 119,
   "metadata": {},
   "outputs": [],
   "source": [
    "def update_item(csvs, item, c,r,device):\n",
    "    norms = update_norms(csvs, c,r, device, item)\n",
    "    idxs = update_sketchs(norms)\n",
    "#     print(idxs)\n",
    "    csvsLeft = [csvs[i] for i in idxs]\n",
    "    del csvs\n",
    "    normsLeft = norms[list(idxs)]\n",
    "    print(normsLeft)\n",
    "    return csvsLeft, normsLeft "
   ]
  },
  {
   "cell_type": "code",
   "execution_count": 120,
   "metadata": {},
   "outputs": [],
   "source": [
    "def update_sketchs(norms):\n",
    "    l= len(norms)\n",
    "    if l <3: return list(range(l))\n",
    "    result = set([])\n",
    "    i = 0\n",
    "    while i < l:\n",
    "        result.add(i)\n",
    "        found = False\n",
    "        j = i+1\n",
    "        while j < l:\n",
    "            if norms[j] > norms[i]:\n",
    "                i = j -1\n",
    "                found = True\n",
    "                break\n",
    "            if (norms[j] < (norms[i] / 2.0)):\n",
    "                if j != i+1:\n",
    "                    result.add(j-1)                    \n",
    "                i = j - 1\n",
    "                found = True\n",
    "                break;\n",
    "            j+=1\n",
    "        if not found and i != l-1: \n",
    "            result.add(l-1)\n",
    "            return result\n",
    "        i+=1\n",
    "    return result"
   ]
  },
  {
   "cell_type": "code",
   "execution_count": 121,
   "metadata": {},
   "outputs": [],
   "source": [
    "# def update_sketchs(norms):\n",
    "#     l= len(norms)\n",
    "#     if l <3: return list(range(l))\n",
    "#     result = []\n",
    "#     i = 0\n",
    "#     while i < l:\n",
    "#         result.append(i)\n",
    "#         found = False\n",
    "#         j = i+1\n",
    "#         while j < l:\n",
    "#             if norms[j] > norms[i]:\n",
    "#                 i = j -1\n",
    "#                 found = True\n",
    "#                 break\n",
    "#             if (norms[j] < (norms[i] / 2.0)):\n",
    "#                 if j != i+1:\n",
    "#                     result.append(j-1)                    \n",
    "#                 i = j - 1\n",
    "#                 found = True\n",
    "#                 break;\n",
    "#             j+=1\n",
    "#         if not found and i != l-1: \n",
    "#             result.append(l-1)\n",
    "#             return result\n",
    "#         i+=1\n",
    "#     return result"
   ]
  },
  {
   "cell_type": "code",
   "execution_count": 122,
   "metadata": {},
   "outputs": [],
   "source": [
    "def run(streamTr, c,r,device):\n",
    "    csvs = []\n",
    "    for i in range(len(streamTr)):\n",
    "        csvs, norms = update_item(csvs, streamTr[i], c,r,device)\n",
    "    return norms"
   ]
  },
  {
   "cell_type": "code",
   "execution_count": null,
   "metadata": {},
   "outputs": [],
   "source": []
  },
  {
   "cell_type": "code",
   "execution_count": 123,
   "metadata": {
    "scrolled": false
   },
   "outputs": [
    {
     "name": "stdout",
     "output_type": "stream",
     "text": [
      "tensor([7.0583], device='cuda:0')\n",
      "tensor([10.3368,  7.0679], device='cuda:0')\n",
      "tensor([12.3282,  7.0583], device='cuda:0')\n",
      "tensor([13.9998,  7.0679], device='cuda:0')\n",
      "tensor([15.2962,  9.9995,  7.0707], device='cuda:0')\n",
      "tensor([16.5551, 10.0990,  7.0707], device='cuda:0')\n",
      "tensor([17.9938,  9.8990,  7.0707], device='cuda:0')\n",
      "tensor([18.6862,  9.5894,  7.0707], device='cuda:0')\n",
      "tensor([19.4651,  9.8949,  7.0679], device='cuda:0')\n",
      "tensor([22.5514, 14.1358,  7.0679], device='cuda:0')\n",
      "tensor([23.4135, 15.4092,  9.6816,  7.0679], device='cuda:0')\n",
      "tensor([24.8781, 12.7124, 10.2395,  7.0654], device='cuda:0')\n",
      "tensor([25.4337, 14.6603, 12.5698,  7.0536], device='cuda:0')\n",
      "tensor([26.5432, 13.6746,  9.3754,  7.0679], device='cuda:0')\n",
      "tensor([28.2356, 16.2268, 12.1611,  7.0353], device='cuda:0')\n",
      "tensor([28.2168, 17.9357, 14.0340,  7.0622], device='cuda:0')\n",
      "tensor([31.0121, 16.3697, 10.2791,  7.0679], device='cuda:0')\n",
      "tensor([31.5767, 17.4596, 12.2045,  7.0622], device='cuda:0')\n",
      "tensor([31.7520, 18.6546, 13.6589,  7.0353], device='cuda:0')\n",
      "tensor([33.0886, 18.0278,  9.5302,  7.0622], device='cuda:0')\n",
      "tensor([33.2079, 18.8400, 11.8018,  7.0622], device='cuda:0')\n",
      "tensor([33.6667, 19.7296, 13.9377,  7.0622], device='cuda:0')\n",
      "tensor([34.9392, 20.5113, 15.9295, 10.2791,  7.0707], device='cuda:0')\n",
      "tensor([36.1814, 21.6787, 17.7479, 10.2883,  7.0679], device='cuda:0')\n",
      "tensor([37.0076, 18.9671, 12.0419,  7.0697], device='cuda:0')\n",
      "tensor([38.1802, 20.5329, 13.8898,  7.0707], device='cuda:0')\n",
      "tensor([40.2225, 22.3089, 16.3021, 10.2956,  7.0679], device='cuda:0')\n",
      "tensor([40.2958, 22.9277, 17.3954,  9.8912,  7.0707], device='cuda:0')\n",
      "tensor([41.2268, 23.7428, 18.8533, 10.0990,  7.0707], device='cuda:0')\n",
      "tensor([41.5567, 24.8789, 20.0992, 10.1484,  7.0711], device='cuda:0')\n",
      "tensor([42.0677, 21.1168, 12.0813,  7.0697], device='cuda:0')\n",
      "tensor([43.0812, 22.2906, 13.5615,  7.0707], device='cuda:0')\n",
      "tensor([44.5867, 24.2049, 15.8094, 10.5352,  7.0654], device='cuda:0')\n",
      "tensor([46.5415, 26.2295, 18.3029, 10.5339,  7.0622], device='cuda:0')\n",
      "tensor([47.1925, 28.0000, 20.1494, 12.5688,  9.6866,  7.0679], device='cuda:0')\n",
      "tensor([48.8978, 28.9615, 21.3040, 11.6616,  9.4286,  7.0583], device='cuda:0')\n",
      "tensor([49.0254, 29.5995, 22.6301, 12.0813, 10.1976,  7.0583], device='cuda:0')\n",
      "tensor([50.1589, 25.8576, 17.4054, 14.1166,  7.0583], device='cuda:0')\n",
      "tensor([50.7345, 27.2548, 19.1200, 10.1676,  7.0711], device='cuda:0')\n",
      "tensor([52.8158, 31.6425, 25.0112, 16.0034, 10.1676,  7.0583], device='cuda:0')\n",
      "tensor([52.8718, 31.3726, 25.2552, 16.7305, 11.6616,  7.0583], device='cuda:0')\n",
      "tensor([53.5050, 32.5314, 26.6441, 13.8186, 10.3436,  7.0707], device='cuda:0')\n",
      "tensor([54.1849, 32.7325, 26.7955, 14.6955, 12.4877,  7.0622], device='cuda:0')\n",
      "tensor([54.3966, 27.2027, 15.8430,  9.5774,  7.0536], device='cuda:0')\n",
      "tensor([55.4437, 29.3162, 19.7854, 11.9988,  9.8483,  7.0583], device='cuda:0')\n",
      "tensor([56.1772, 30.9603, 21.7708, 12.3071, 10.3441,  7.0707], device='cuda:0')\n",
      "tensor([57.8342, 31.2087, 23.1084, 12.7036,  9.5637,  7.0707], device='cuda:0')\n",
      "tensor([58.2681, 32.0968, 24.3838, 12.2833, 10.2465,  7.0711], device='cuda:0')\n",
      "tensor([59.0316, 32.2628, 24.7803, 12.8062, 10.2938,  7.0711], device='cuda:0')\n",
      "tensor([59.4576, 33.0626, 25.8541, 14.2767, 12.5667,  7.0679], device='cuda:0')\n",
      "tensor([60.1878, 33.8156, 26.6519, 14.5588,  9.8809,  7.0622], device='cuda:0')\n",
      "tensor([61.3756, 35.1965, 27.5815, 16.5527, 12.3234,  7.0707], device='cuda:0')\n",
      "tensor([63.5451, 35.7499, 28.2956, 14.6944,  9.8662,  7.0622], device='cuda:0')\n",
      "tensor([63.9665, 36.9078, 29.3336, 16.3689, 11.7883,  7.0483], device='cuda:0')\n",
      "tensor([64.1865, 37.2049, 29.9284, 18.1814, 13.9576,  7.0707], device='cuda:0')\n",
      "tensor([64.4013, 37.6265, 30.6754, 15.8060, 10.3436,  7.0711], device='cuda:0')\n",
      "tensor([65.9079, 38.0950, 31.1084, 17.2239, 12.1403,  7.0353], device='cuda:0')\n",
      "tensor([66.8492, 38.1550, 31.5986, 18.1023, 13.9883,  7.0622], device='cuda:0')\n",
      "tensor([66.3773, 37.8388, 31.1870, 15.6761, 10.1098,  7.0583], device='cuda:0')\n",
      "tensor([68.4886, 39.0380, 32.3873, 17.5440, 12.7799,  7.0654], device='cuda:0')\n",
      "tensor([71.2032, 40.8912, 34.6245, 19.2781, 14.7385, 10.5339,  7.0622],\n",
      "       device='cuda:0')\n",
      "tensor([72.2147, 41.9848, 35.6516, 20.4300, 16.2968, 10.2841,  7.0536],\n",
      "       device='cuda:0')\n",
      "tensor([72.5370, 42.4319, 36.0194, 21.2379, 17.4332,  9.9995,  7.0622],\n",
      "       device='cuda:0')\n",
      "tensor([73.0775, 36.9656, 22.5132, 12.6416, 10.2956,  7.0536], device='cuda:0')\n",
      "tensor([73.9324, 38.5151, 22.8367, 11.8273, 10.0321,  7.0711], device='cuda:0')\n",
      "tensor([74.0900, 38.8930, 23.3497, 11.7765,  9.7717,  7.0192], device='cuda:0')\n",
      "tensor([75.4969, 40.9006, 25.3201, 14.3262, 12.5445,  7.0654], device='cuda:0')\n",
      "tensor([76.1269, 41.5690, 26.1023, 14.8476, 10.2451,  7.0679], device='cuda:0')\n",
      "tensor([76.7483, 43.0478, 27.9242, 17.2586, 13.3416,  7.0711], device='cuda:0')\n",
      "tensor([76.5003, 42.5240, 28.7642, 14.9232,  9.7119,  7.0622], device='cuda:0')\n",
      "tensor([78.0201, 44.6833, 30.1014, 16.1501, 11.7722,  7.0622], device='cuda:0')\n",
      "tensor([79.7023, 46.5591, 33.0759, 18.5296, 14.7253, 10.2791,  7.0622],\n",
      "       device='cuda:0')\n",
      "tensor([80.3857, 47.2175, 34.2209, 19.5935, 16.7330, 10.1446,  7.0654],\n",
      "       device='cuda:0')\n",
      "tensor([80.3290, 47.1443, 34.6621, 18.1006, 12.6452,  7.0536], device='cuda:0')\n",
      "tensor([82.3763, 50.0905, 37.1179, 21.7153, 14.4142,  9.6904,  7.0622],\n",
      "       device='cuda:0')\n",
      "tensor([82.8914, 50.9536, 38.7161, 24.7659, 18.9613,  9.6904,  7.0536],\n",
      "       device='cuda:0')\n",
      "tensor([83.7951, 51.0062, 39.0121, 24.9481, 19.2907, 11.4884,  9.4774,  7.0679],\n",
      "       device='cuda:0')\n",
      "tensor([83.8654, 51.3012, 39.4968, 20.0979, 13.3039,  7.0711], device='cuda:0')\n",
      "tensor([84.6894, 52.6914, 39.8999, 21.1161, 14.5822,  9.7026,  7.0679],\n",
      "       device='cuda:0')\n",
      "tensor([85.3766, 53.9259, 41.6674, 22.5290, 16.2532,  9.7419,  7.0711],\n",
      "       device='cuda:0')\n",
      "tensor([86.1741, 43.0969, 23.2216, 17.2488, 11.1893,  7.0622], device='cuda:0')\n",
      "tensor([86.2236, 43.6644, 24.6992, 13.0500, 10.3218,  7.0697], device='cuda:0')\n",
      "tensor([85.5644, 43.6245, 25.0108, 14.1368, 12.3968,  7.0707], device='cuda:0')\n",
      "tensor([87.5470, 44.7942, 26.4158, 13.9998,  9.3175,  7.0583], device='cuda:0')\n",
      "tensor([88.0943, 44.6798, 27.3343, 15.8734, 12.1347,  7.0483], device='cuda:0')\n",
      "tensor([88.4903, 45.3222, 28.4190, 17.4925, 13.7446,  7.0697], device='cuda:0')\n",
      "tensor([88.7659, 46.0370, 29.3511, 15.6110,  9.8949,  7.0654], device='cuda:0')\n",
      "tensor([90.4763, 46.5912, 29.9554, 16.9996, 11.4679,  7.0583], device='cuda:0')\n",
      "tensor([91.0468, 46.6844, 30.8625, 18.3841, 12.9815,  7.0679], device='cuda:0')\n",
      "tensor([92.2652, 47.8630, 30.2849, 18.7055, 14.1144,  7.0654], device='cuda:0')\n",
      "tensor([92.8554, 48.1858, 30.2950, 16.1011, 10.4385,  7.0707], device='cuda:0')\n",
      "tensor([95.2075, 50.2490, 33.0143, 17.4347, 11.9145,  7.0583], device='cuda:0')\n",
      "tensor([95.7973, 50.7423, 33.9722, 19.3121, 14.0684,  7.0707], device='cuda:0')\n",
      "tensor([95.4114, 50.7057, 34.3373, 19.8962, 15.4785, 10.1316,  7.0697],\n",
      "       device='cuda:0')\n",
      "tensor([95.9508, 50.5916, 34.2809, 18.3568, 12.9606,  7.0679], device='cuda:0')\n",
      "tensor([96.9085, 51.8139, 35.8802, 20.0473, 14.5544, 10.0479,  7.0483],\n",
      "       device='cuda:0')\n",
      "tensor([98.4573, 53.2149, 36.7976, 21.0924, 16.4299, 10.2938,  7.0353],\n",
      "       device='cuda:0')\n",
      "tensor([99.6790, 54.2710, 38.2020, 22.8893, 18.4932,  9.8238,  7.0654],\n",
      "       device='cuda:0')\n",
      "tensor([99.2518, 53.7618, 37.6338, 19.3389, 11.7845,  7.0679], device='cuda:0')\n",
      "tensor([100.6223,  54.5115,  38.9238,  21.2124,  13.9641,   7.0707],\n",
      "       device='cuda:0')\n"
     ]
    },
    {
     "data": {
      "text/plain": [
       "tensor([100.6223,  54.5115,  38.9238,  21.2124,  13.9641,   7.0707],\n",
       "       device='cuda:0')"
      ]
     },
     "execution_count": 123,
     "metadata": {},
     "output_type": "execute_result"
    }
   ],
   "source": [
    "run(streamTr, c, r, device)"
   ]
  },
  {
   "cell_type": "code",
   "execution_count": null,
   "metadata": {},
   "outputs": [],
   "source": [
    "def find_set(array):\n",
    "    result = set()\n",
    "    i = 0\n",
    "    while i < len(array):\n",
    "        print('loop',i,result)\n",
    "        set.append(array[i])\n",
    "        found = False\n",
    "        j = i+1\n",
    "        while j < len(array):\n",
    "            print(i, j)\n",
    "            if array[j] > array[i]:\n",
    "                i = j -1\n",
    "                found = True\n",
    "                break\n",
    "            if (array[j] < (array[i] / 2)):\n",
    "                if j != i+1:\n",
    "                    result.append(array[j-1])\n",
    "\n",
    "                print(result)\n",
    "                i = j - 1\n",
    "                found = True\n",
    "                break;\n",
    "            j+=1\n",
    "        if not found: \n",
    "            result.append(array[-1])\n",
    "            return result\n",
    "        i+=1\n",
    "    return result"
   ]
  },
  {
   "cell_type": "code",
   "execution_count": null,
   "metadata": {},
   "outputs": [],
   "source": [
    "def find(array):\n",
    "    result = []\n",
    "    i = 0\n",
    "    while i < len(array):\n",
    "        print('loop',i,result)\n",
    "        result.append(array[i])\n",
    "        found = False\n",
    "        j = i+1\n",
    "        while j < len(array):\n",
    "            print(i, j)\n",
    "            if array[j] > array[i]:\n",
    "                i = j -1\n",
    "                found = True\n",
    "                break\n",
    "            if (array[j] < (array[i] / 2)):\n",
    "                if j != i+1:\n",
    "                    result.append(array[j-1])\n",
    "\n",
    "                print(result)\n",
    "                i = j - 1\n",
    "                found = True\n",
    "                break;\n",
    "            j+=1\n",
    "        if not found: \n",
    "            result.append(array[-1])\n",
    "            return result\n",
    "        i+=1\n",
    "    return result"
   ]
  },
  {
   "cell_type": "code",
   "execution_count": 11,
   "metadata": {},
   "outputs": [],
   "source": []
  },
  {
   "cell_type": "code",
   "execution_count": null,
   "metadata": {},
   "outputs": [],
   "source": []
  }
 ],
 "metadata": {
  "kernelspec": {
   "display_name": "Python 3.8.2 64-bit ('ptorch': conda)",
   "language": "python",
   "name": "python38264bitptorchconda526be3fe34db4c6e9ce522e086b57990"
  },
  "language_info": {
   "codemirror_mode": {
    "name": "ipython",
    "version": 3
   },
   "file_extension": ".py",
   "mimetype": "text/x-python",
   "name": "python",
   "nbconvert_exporter": "python",
   "pygments_lexer": "ipython3",
   "version": "3.8.2"
  }
 },
 "nbformat": 4,
 "nbformat_minor": 4
}
